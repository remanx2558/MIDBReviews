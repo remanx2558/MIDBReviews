{
  "nbformat": 4,
  "nbformat_minor": 0,
  "metadata": {
    "colab": {
      "name": "FastTextSingleChannelCNN",
      "provenance": [],
      "collapsed_sections": [],
      "mount_file_id": "1vRqa-mz-9CCOUUFPNnTbHYRbfm_P0eSk",
      "authorship_tag": "ABX9TyMW4uf2ZKxVOgz+5evWnuWo",
      "include_colab_link": true
    },
    "kernelspec": {
      "name": "python3",
      "display_name": "Python 3"
    },
    "accelerator": "GPU"
  },
  "cells": [
    {
      "cell_type": "markdown",
      "metadata": {
        "id": "view-in-github",
        "colab_type": "text"
      },
      "source": [
        "<a href=\"https://colab.research.google.com/github/remanx2558/MIDBReviews/blob/master/FastTextSingleChannelCNN.ipynb\" target=\"_parent\"><img src=\"https://colab.research.google.com/assets/colab-badge.svg\" alt=\"Open In Colab\"/></a>"
      ]
    },
    {
      "cell_type": "code",
      "metadata": {
        "id": "IYMFZSdzsTYJ",
        "colab_type": "code",
        "outputId": "51145918-2d8b-4163-99f9-ac91145038d8",
        "colab": {
          "base_uri": "https://localhost:8080/",
          "height": 34
        }
      },
      "source": [
        "from google.colab import drive\n",
        "drive.mount('/content/drive')\n"
      ],
      "execution_count": 0,
      "outputs": [
        {
          "output_type": "stream",
          "text": [
            "Drive already mounted at /content/drive; to attempt to forcibly remount, call drive.mount(\"/content/drive\", force_remount=True).\n"
          ],
          "name": "stdout"
        }
      ]
    },
    {
      "cell_type": "markdown",
      "metadata": {
        "id": "wCmjGb3p8_mA",
        "colab_type": "text"
      },
      "source": [
        "load file"
      ]
    },
    {
      "cell_type": "code",
      "metadata": {
        "id": "ZocS4mo4sYd1",
        "colab_type": "code",
        "outputId": "a1cb1656-4b5f-47fb-ee6c-4e1e1f57ef58",
        "colab": {
          "base_uri": "https://localhost:8080/",
          "height": 34
        }
      },
      "source": [
        "import pandas as pd\n",
        "import numpy as np\n",
        "\n",
        "\n",
        "movie_reviews = pd.read_csv(r\"/content/drive/My Drive/malia/train.csv\")\n",
        "\n",
        "movie_reviews.isnull().values.any()\n",
        "movie_reviews.sentiment= movie_reviews.sentiment.fillna(0.0).astype(int)#this will conver float into int and also manage missing values\n",
        "\n",
        "movie_reviews.shape"
      ],
      "execution_count": 143,
      "outputs": [
        {
          "output_type": "execute_result",
          "data": {
            "text/plain": [
              "(25005, 2)"
            ]
          },
          "metadata": {
            "tags": []
          },
          "execution_count": 143
        }
      ]
    },
    {
      "cell_type": "markdown",
      "metadata": {
        "id": "tKYdIZMW9Bfd",
        "colab_type": "text"
      },
      "source": [
        "pre-process"
      ]
    },
    {
      "cell_type": "code",
      "metadata": {
        "id": "4_wTr66ysYg9",
        "colab_type": "code",
        "colab": {}
      },
      "source": [
        "def preprocess_text(sen):\n",
        "    # Removing html tags\n",
        "    sentence = remove_tags(sen)\n",
        "\n",
        "    # Remove punctuations and numbers\n",
        "    sentence = re.sub('[^a-zA-Z]', ' ', sentence)\n",
        "\n",
        "    # Single character removal\n",
        "    sentence = re.sub(r\"\\s+[a-zA-Z]\\s+\", ' ', sentence)\n",
        "\n",
        "    # Removing multiple spaces\n",
        "    sentence = re.sub(r'\\s+', ' ', sentence)\n",
        "\n",
        "    return sentence"
      ],
      "execution_count": 0,
      "outputs": []
    },
    {
      "cell_type": "code",
      "metadata": {
        "id": "Hei3hjkzsYoh",
        "colab_type": "code",
        "colab": {}
      },
      "source": [
        "import re\n",
        "TAG_RE = re.compile(r'<[^>]+>')\n",
        "\n",
        "def remove_tags(text):\n",
        "    return TAG_RE.sub('', text)\n"
      ],
      "execution_count": 0,
      "outputs": []
    },
    {
      "cell_type": "code",
      "metadata": {
        "id": "JyKi0qbIsYtj",
        "colab_type": "code",
        "colab": {}
      },
      "source": [
        "reviews = []\n",
        "sentences = list(movie_reviews['text'])\n",
        "for sen in sentences:\n",
        "    reviews.append(preprocess_text(sen))"
      ],
      "execution_count": 0,
      "outputs": []
    },
    {
      "cell_type": "code",
      "metadata": {
        "id": "m5qwFadksYwg",
        "colab_type": "code",
        "outputId": "65039e4b-96eb-4e10-9df8-99bb27869221",
        "colab": {
          "base_uri": "https://localhost:8080/",
          "height": 34
        }
      },
      "source": [
        "print(movie_reviews.columns.values)"
      ],
      "execution_count": 147,
      "outputs": [
        {
          "output_type": "stream",
          "text": [
            "['text' 'sentiment']\n"
          ],
          "name": "stdout"
        }
      ]
    },
    {
      "cell_type": "markdown",
      "metadata": {
        "id": "RAxysgBy9Wsz",
        "colab_type": "text"
      },
      "source": [
        "model "
      ]
    },
    {
      "cell_type": "code",
      "metadata": {
        "id": "SijIj-jmsY4G",
        "colab_type": "code",
        "colab": {}
      },
      "source": [
        "import os\n",
        "import sys\n",
        "import numpy as np\n",
        "import pandas as pd\n",
        "from keras.preprocessing.text import Tokenizer\n",
        "from keras.preprocessing.sequence import pad_sequences\n",
        "from keras.utils import to_categorical\n",
        "\n",
        "from gensim.models import KeyedVectors"
      ],
      "execution_count": 0,
      "outputs": []
    },
    {
      "cell_type": "code",
      "metadata": {
        "id": "yzFVQdcTsZBo",
        "colab_type": "code",
        "colab": {}
      },
      "source": [
        "tokenizer = Tokenizer(num_words=200)\n",
        "tokenizer.fit_on_texts(movie_reviews[\"text\"])\n",
        "sequences = tokenizer.texts_to_sequences(movie_reviews[\"text\"])\n"
      ],
      "execution_count": 0,
      "outputs": []
    },
    {
      "cell_type": "code",
      "metadata": {
        "id": "Z8ttxmTTsZEz",
        "colab_type": "code",
        "outputId": "7b5df8c3-6679-4726-fee9-e04f4a7e4054",
        "colab": {
          "base_uri": "https://localhost:8080/",
          "height": 69
        }
      },
      "source": [
        "\n",
        "word_index = tokenizer.word_index\n",
        "print('Found %s unique tokens.' % len(word_index))\n",
        "\n",
        "MAX_SEQUENCE_LENGTH = 1000\n",
        "\n",
        "data = pad_sequences(sequences, maxlen=MAX_SEQUENCE_LENGTH)\n",
        "\n",
        "\n",
        "labels = to_categorical(np.asarray(movie_reviews[\"sentiment\"]))\n",
        "print('Shape of data tensor:', data.shape)\n",
        "print('Shape of label tensor:', labels.shape)"
      ],
      "execution_count": 150,
      "outputs": [
        {
          "output_type": "stream",
          "text": [
            "Found 88075 unique tokens.\n",
            "Shape of data tensor: (25005, 1000)\n",
            "Shape of label tensor: (25005, 2)\n"
          ],
          "name": "stdout"
        }
      ]
    },
    {
      "cell_type": "code",
      "metadata": {
        "id": "Q_1G7OmfsY-9",
        "colab_type": "code",
        "colab": {}
      },
      "source": [
        "from sklearn.model_selection import train_test_split\n",
        "x_train, x_val, y_train, y_val = train_test_split(data, labels, test_size=0.2, random_state=42)\n",
        "x_test, x_val, y_test, y_val = train_test_split(data, labels, test_size=0.5, random_state=42)"
      ],
      "execution_count": 0,
      "outputs": []
    },
    {
      "cell_type": "code",
      "metadata": {
        "id": "VsEBJwdCN7Pr",
        "colab_type": "code",
        "outputId": "c777fa2b-3c9c-4819-cb8b-4cd59e37846f",
        "colab": {
          "base_uri": "https://localhost:8080/",
          "height": 278
        }
      },
      "source": [
        "!wget https://drive.google.com/open?id=1xzt06g_xeP1DitFXhJprF5VTwzNEUYhq\n"
      ],
      "execution_count": 152,
      "outputs": [
        {
          "output_type": "stream",
          "text": [
            "--2020-06-10 00:50:43--  https://drive.google.com/open?id=1xzt06g_xeP1DitFXhJprF5VTwzNEUYhq\n",
            "Resolving drive.google.com (drive.google.com)... 108.177.126.138, 108.177.126.139, 108.177.126.100, ...\n",
            "Connecting to drive.google.com (drive.google.com)|108.177.126.138|:443... connected.\n",
            "HTTP request sent, awaiting response... 307 Temporary Redirect\n",
            "Location: https://drive.google.com/file/d/1xzt06g_xeP1DitFXhJprF5VTwzNEUYhq/view?usp=drive_open [following]\n",
            "--2020-06-10 00:50:44--  https://drive.google.com/file/d/1xzt06g_xeP1DitFXhJprF5VTwzNEUYhq/view?usp=drive_open\n",
            "Reusing existing connection to drive.google.com:443.\n",
            "HTTP request sent, awaiting response... 200 OK\n",
            "Length: unspecified [text/html]\n",
            "Saving to: ‘open?id=1xzt06g_xeP1DitFXhJprF5VTwzNEUYhq.8’\n",
            "\n",
            "open?id=1xzt06g_xeP     [ <=>                ]  68.30K  --.-KB/s    in 0.03s   \n",
            "\n",
            "2020-06-10 00:50:44 (2.57 MB/s) - ‘open?id=1xzt06g_xeP1DitFXhJprF5VTwzNEUYhq.8’ saved [69942]\n",
            "\n"
          ],
          "name": "stdout"
        }
      ]
    },
    {
      "cell_type": "code",
      "metadata": {
        "id": "u0HERkEkkkn3",
        "colab_type": "code",
        "outputId": "478b5ec5-a736-4377-8365-c0eec0a0369c",
        "colab": {
          "base_uri": "https://localhost:8080/",
          "height": 72
        }
      },
      "source": [
        "model_ft = KeyedVectors.load_word2vec_format('/content/drive/My Drive/malia/wiki-news-300d-1M.vec', binary=False)"
      ],
      "execution_count": 153,
      "outputs": [
        {
          "output_type": "stream",
          "text": [
            "/usr/local/lib/python3.6/dist-packages/smart_open/smart_open_lib.py:253: UserWarning: This function is deprecated, use smart_open.open instead. See the migration notes for details: https://github.com/RaRe-Technologies/smart_open/blob/master/README.rst#migrating-to-the-new-open-function\n",
            "  'See the migration notes for details: %s' % _MIGRATION_NOTES_URL\n"
          ],
          "name": "stderr"
        }
      ]
    },
    {
      "cell_type": "code",
      "metadata": {
        "id": "eUoWEswethxc",
        "colab_type": "code",
        "colab": {}
      },
      "source": [
        "import keras"
      ],
      "execution_count": 0,
      "outputs": []
    },
    {
      "cell_type": "code",
      "metadata": {
        "id": "CwyFRwa5thuZ",
        "colab_type": "code",
        "colab": {
          "base_uri": "https://localhost:8080/",
          "height": 34
        },
        "outputId": "38675a9f-79b9-4ff0-98e1-79f6b6ab9762"
      },
      "source": [
        "vocabSize = len(word_index) + 1\n",
        "# Querying SQLlite database to extract needed words embeddings\n",
        "tokenizer = keras.preprocessing.text.Tokenizer()\n",
        "tokenizer.fit_on_texts(movie_reviews[\"text\"])\n",
        "vocabSize = len(tokenizer.word_index) + 1\n",
        "vocabSize"
      ],
      "execution_count": 155,
      "outputs": [
        {
          "output_type": "execute_result",
          "data": {
            "text/plain": [
              "88076"
            ]
          },
          "metadata": {
            "tags": []
          },
          "execution_count": 155
        }
      ]
    },
    {
      "cell_type": "code",
      "metadata": {
        "id": "CRobkdjYthqi",
        "colab_type": "code",
        "colab": {
          "base_uri": "https://localhost:8080/",
          "height": 69
        },
        "outputId": "eb1f3795-96da-4810-c389-d994592fbec4"
      },
      "source": [
        "EMBEDDING_DIM = 300\n",
        "MAX_NUM_WORDS=500\n",
        "print('Preparing embedding matrix.fast text')\n",
        "\n",
        "# prepare embedding matrix\n",
        "num_words = min(MAX_NUM_WORDS, len(word_index) + 1)\n",
        "print(num_words)\n",
        "embedding_matrix = np.zeros((vocabSize, EMBEDDING_DIM))\n",
        "for word, i in word_index.items():\n",
        "    if i >= MAX_NUM_WORDS:\n",
        "        continue\n",
        "    if word in model_ft.vocab:\n",
        "      embedding_vector = model_ft[word]\n",
        "      embedding_vector = np.array(embedding_vector)\n",
        "      if embedding_vector is not None:\n",
        "          # words not found in embedding index will be all-zeros.\n",
        "          embedding_matrix[i] = embedding_vector\n",
        "print(embedding_matrix.shape)"
      ],
      "execution_count": 156,
      "outputs": [
        {
          "output_type": "stream",
          "text": [
            "Preparing embedding matrix.fast text\n",
            "500\n",
            "(88076, 300)\n"
          ],
          "name": "stdout"
        }
      ]
    },
    {
      "cell_type": "code",
      "metadata": {
        "id": "6Yi3Ptn3thkq",
        "colab_type": "code",
        "colab": {
          "base_uri": "https://localhost:8080/",
          "height": 607
        },
        "outputId": "0509f249-8bd8-4b88-bf04-0af409edc796"
      },
      "source": [
        "from keras.models import Sequential\n",
        "from keras.layers import Dense, Embedding\n",
        "from keras.layers import Flatten\n",
        "from keras.initializers import Constant\n",
        "\n",
        "print('Training model.')\n",
        "\n",
        "# define the model\n",
        "model = Sequential()\n",
        "model.add(Embedding(vocabSize,\n",
        "                            EMBEDDING_DIM,\n",
        "                            embeddings_initializer=Constant(embedding_matrix),\n",
        "                            input_length=MAX_SEQUENCE_LENGTH,\n",
        "                            trainable=False))\n",
        "model.add(Flatten())\n",
        "model.add(Dense(512, activation='relu'))\n",
        "model.add(Dense(256, activation='relu'))\n",
        "model.add(Dense(128, activation='relu'))\n",
        "model.add(Dense(2, activation='softmax'))\n",
        "# compile the model\n",
        "model.compile(loss='categorical_crossentropy',\n",
        "              optimizer='rmsprop',\n",
        "              metrics=['acc'])\n",
        "\n",
        "# summarize the model\n",
        "print(model.summary())\n",
        "\n",
        "model.fit(x_train, y_train,\n",
        "          batch_size=256,\n",
        "          epochs=5,\n",
        "          validation_data=(x_val, y_val))"
      ],
      "execution_count": 157,
      "outputs": [
        {
          "output_type": "stream",
          "text": [
            "Training model.\n",
            "Model: \"sequential_3\"\n",
            "_________________________________________________________________\n",
            "Layer (type)                 Output Shape              Param #   \n",
            "=================================================================\n",
            "embedding_3 (Embedding)      (None, 1000, 300)         26422800  \n",
            "_________________________________________________________________\n",
            "flatten_3 (Flatten)          (None, 300000)            0         \n",
            "_________________________________________________________________\n",
            "dense_9 (Dense)              (None, 512)               153600512 \n",
            "_________________________________________________________________\n",
            "dense_10 (Dense)             (None, 256)               131328    \n",
            "_________________________________________________________________\n",
            "dense_11 (Dense)             (None, 128)               32896     \n",
            "_________________________________________________________________\n",
            "dense_12 (Dense)             (None, 2)                 258       \n",
            "=================================================================\n",
            "Total params: 180,187,794\n",
            "Trainable params: 153,764,994\n",
            "Non-trainable params: 26,422,800\n",
            "_________________________________________________________________\n",
            "None\n",
            "Train on 20004 samples, validate on 12503 samples\n",
            "Epoch 1/5\n",
            "20004/20004 [==============================] - 9s 433us/step - loss: 0.8096 - acc: 0.5293 - val_loss: 0.7017 - val_acc: 0.5683\n",
            "Epoch 2/5\n",
            "20004/20004 [==============================] - 9s 429us/step - loss: 0.6638 - acc: 0.6176 - val_loss: 0.6151 - val_acc: 0.6759\n",
            "Epoch 3/5\n",
            "20004/20004 [==============================] - 9s 431us/step - loss: 0.5773 - acc: 0.7047 - val_loss: 0.5680 - val_acc: 0.7004\n",
            "Epoch 4/5\n",
            "20004/20004 [==============================] - 9s 433us/step - loss: 0.4895 - acc: 0.7596 - val_loss: 0.4943 - val_acc: 0.7722\n",
            "Epoch 5/5\n",
            "20004/20004 [==============================] - 9s 432us/step - loss: 0.4299 - acc: 0.8142 - val_loss: 0.4347 - val_acc: 0.7996\n"
          ],
          "name": "stdout"
        },
        {
          "output_type": "execute_result",
          "data": {
            "text/plain": [
              "<keras.callbacks.callbacks.History at 0x7fe3ccd7fda0>"
            ]
          },
          "metadata": {
            "tags": []
          },
          "execution_count": 157
        }
      ]
    },
    {
      "cell_type": "code",
      "metadata": {
        "id": "7V3bL7ewyqWo",
        "colab_type": "code",
        "colab": {
          "base_uri": "https://localhost:8080/",
          "height": 52
        },
        "outputId": "b92337c9-10f8-4438-b9d5-6e14d3ade670"
      },
      "source": [
        "loss, accuracy = model.evaluate(x_test, y_test, verbose=0)\n",
        "\n",
        "print('Accuracy: %f' % (accuracy))\n",
        "print('Loss: %f' % (loss))"
      ],
      "execution_count": 158,
      "outputs": [
        {
          "output_type": "stream",
          "text": [
            "Accuracy: 0.897616\n",
            "Loss: 0.267978\n"
          ],
          "name": "stdout"
        }
      ]
    },
    {
      "cell_type": "code",
      "metadata": {
        "id": "Z6AridVYyqjt",
        "colab_type": "code",
        "colab": {}
      },
      "source": [
        "#model.most_similar(positive=\"dinner\")\n",
        "#from keras.preprocessing.text import Tokenizer\n",
        "model.save_weights(\"model.h5\")"
      ],
      "execution_count": 0,
      "outputs": []
    },
    {
      "cell_type": "code",
      "metadata": {
        "id": "i2LPyy0G07jA",
        "colab_type": "code",
        "colab": {}
      },
      "source": [
        ""
      ],
      "execution_count": 0,
      "outputs": []
    }
  ]
}
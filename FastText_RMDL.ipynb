{
  "nbformat": 4,
  "nbformat_minor": 0,
  "metadata": {
    "colab": {
      "name": "FastText_RMDL.ipynb",
      "provenance": [],
      "mount_file_id": "175Tyz4XWFXgqREqQhlyOeEhTGa6gPzPG",
      "authorship_tag": "ABX9TyPAZ9TlqkARAknSeEqI/5iz",
      "include_colab_link": true
    },
    "kernelspec": {
      "name": "python3",
      "display_name": "Python 3"
    },
    "accelerator": "GPU"
  },
  "cells": [
    {
      "cell_type": "markdown",
      "metadata": {
        "id": "view-in-github",
        "colab_type": "text"
      },
      "source": [
        "<a href=\"https://colab.research.google.com/github/remanx2558/MIDBReviews/blob/master/FastText_RMDL.ipynb\" target=\"_parent\"><img src=\"https://colab.research.google.com/assets/colab-badge.svg\" alt=\"Open In Colab\"/></a>"
      ]
    },
    {
      "cell_type": "code",
      "metadata": {
        "id": "gJJy_T3RvJr7",
        "colab_type": "code",
        "colab": {
          "base_uri": "https://localhost:8080/",
          "height": 970
        },
        "outputId": "b8903dfd-f673-44fa-85a9-42b90d6635f8"
      },
      "source": [
        "!pip install RMDL"
      ],
      "execution_count": 1,
      "outputs": [
        {
          "output_type": "stream",
          "text": [
            "Collecting RMDL\n",
            "\u001b[?25l  Downloading https://files.pythonhosted.org/packages/18/1c/7911d9b8ea3a95983d19720560963b3b809af7308a46a111756606ed928f/RMDL-1.0.8-py2.py3-none-any.whl (44kB)\n",
            "\r\u001b[K     |███████▍                        | 10kB 28.9MB/s eta 0:00:01\r\u001b[K     |██████████████▊                 | 20kB 6.1MB/s eta 0:00:01\r\u001b[K     |██████████████████████          | 30kB 7.4MB/s eta 0:00:01\r\u001b[K     |█████████████████████████████▌  | 40kB 7.6MB/s eta 0:00:01\r\u001b[K     |████████████████████████████████| 51kB 4.2MB/s \n",
            "\u001b[?25hRequirement already satisfied: scikit-learn>=0.19.0 in /usr/local/lib/python3.6/dist-packages (from RMDL) (0.22.2.post1)\n",
            "Requirement already satisfied: numpy>=1.12.1 in /usr/local/lib/python3.6/dist-packages (from RMDL) (1.18.5)\n",
            "Requirement already satisfied: tensorflow in /usr/local/lib/python3.6/dist-packages (from RMDL) (2.3.0)\n",
            "Requirement already satisfied: scipy in /usr/local/lib/python3.6/dist-packages (from RMDL) (1.4.1)\n",
            "Requirement already satisfied: pandas>=0.22.0 in /usr/local/lib/python3.6/dist-packages (from RMDL) (1.0.5)\n",
            "Requirement already satisfied: keras>=2.0.9 in /usr/local/lib/python3.6/dist-packages (from RMDL) (2.4.3)\n",
            "Requirement already satisfied: matplotlib>=2.1.2 in /usr/local/lib/python3.6/dist-packages (from RMDL) (3.2.2)\n",
            "Requirement already satisfied: nltk>=3.2.4 in /usr/local/lib/python3.6/dist-packages (from RMDL) (3.2.5)\n",
            "Requirement already satisfied: joblib>=0.11 in /usr/local/lib/python3.6/dist-packages (from scikit-learn>=0.19.0->RMDL) (0.16.0)\n",
            "Requirement already satisfied: astunparse==1.6.3 in /usr/local/lib/python3.6/dist-packages (from tensorflow->RMDL) (1.6.3)\n",
            "Requirement already satisfied: google-pasta>=0.1.8 in /usr/local/lib/python3.6/dist-packages (from tensorflow->RMDL) (0.2.0)\n",
            "Requirement already satisfied: protobuf>=3.9.2 in /usr/local/lib/python3.6/dist-packages (from tensorflow->RMDL) (3.12.4)\n",
            "Requirement already satisfied: h5py<2.11.0,>=2.10.0 in /usr/local/lib/python3.6/dist-packages (from tensorflow->RMDL) (2.10.0)\n",
            "Requirement already satisfied: absl-py>=0.7.0 in /usr/local/lib/python3.6/dist-packages (from tensorflow->RMDL) (0.9.0)\n",
            "Requirement already satisfied: wrapt>=1.11.1 in /usr/local/lib/python3.6/dist-packages (from tensorflow->RMDL) (1.12.1)\n",
            "Requirement already satisfied: tensorflow-estimator<2.4.0,>=2.3.0 in /usr/local/lib/python3.6/dist-packages (from tensorflow->RMDL) (2.3.0)\n",
            "Requirement already satisfied: six>=1.12.0 in /usr/local/lib/python3.6/dist-packages (from tensorflow->RMDL) (1.15.0)\n",
            "Requirement already satisfied: grpcio>=1.8.6 in /usr/local/lib/python3.6/dist-packages (from tensorflow->RMDL) (1.30.0)\n",
            "Requirement already satisfied: gast==0.3.3 in /usr/local/lib/python3.6/dist-packages (from tensorflow->RMDL) (0.3.3)\n",
            "Requirement already satisfied: termcolor>=1.1.0 in /usr/local/lib/python3.6/dist-packages (from tensorflow->RMDL) (1.1.0)\n",
            "Requirement already satisfied: wheel>=0.26 in /usr/local/lib/python3.6/dist-packages (from tensorflow->RMDL) (0.34.2)\n",
            "Requirement already satisfied: opt-einsum>=2.3.2 in /usr/local/lib/python3.6/dist-packages (from tensorflow->RMDL) (3.3.0)\n",
            "Requirement already satisfied: tensorboard<3,>=2.3.0 in /usr/local/lib/python3.6/dist-packages (from tensorflow->RMDL) (2.3.0)\n",
            "Requirement already satisfied: keras-preprocessing<1.2,>=1.1.1 in /usr/local/lib/python3.6/dist-packages (from tensorflow->RMDL) (1.1.2)\n",
            "Requirement already satisfied: python-dateutil>=2.6.1 in /usr/local/lib/python3.6/dist-packages (from pandas>=0.22.0->RMDL) (2.8.1)\n",
            "Requirement already satisfied: pytz>=2017.2 in /usr/local/lib/python3.6/dist-packages (from pandas>=0.22.0->RMDL) (2018.9)\n",
            "Requirement already satisfied: pyyaml in /usr/local/lib/python3.6/dist-packages (from keras>=2.0.9->RMDL) (3.13)\n",
            "Requirement already satisfied: cycler>=0.10 in /usr/local/lib/python3.6/dist-packages (from matplotlib>=2.1.2->RMDL) (0.10.0)\n",
            "Requirement already satisfied: kiwisolver>=1.0.1 in /usr/local/lib/python3.6/dist-packages (from matplotlib>=2.1.2->RMDL) (1.2.0)\n",
            "Requirement already satisfied: pyparsing!=2.0.4,!=2.1.2,!=2.1.6,>=2.0.1 in /usr/local/lib/python3.6/dist-packages (from matplotlib>=2.1.2->RMDL) (2.4.7)\n",
            "Requirement already satisfied: setuptools in /usr/local/lib/python3.6/dist-packages (from protobuf>=3.9.2->tensorflow->RMDL) (49.2.0)\n",
            "Requirement already satisfied: werkzeug>=0.11.15 in /usr/local/lib/python3.6/dist-packages (from tensorboard<3,>=2.3.0->tensorflow->RMDL) (1.0.1)\n",
            "Requirement already satisfied: markdown>=2.6.8 in /usr/local/lib/python3.6/dist-packages (from tensorboard<3,>=2.3.0->tensorflow->RMDL) (3.2.2)\n",
            "Requirement already satisfied: google-auth-oauthlib<0.5,>=0.4.1 in /usr/local/lib/python3.6/dist-packages (from tensorboard<3,>=2.3.0->tensorflow->RMDL) (0.4.1)\n",
            "Requirement already satisfied: requests<3,>=2.21.0 in /usr/local/lib/python3.6/dist-packages (from tensorboard<3,>=2.3.0->tensorflow->RMDL) (2.23.0)\n",
            "Requirement already satisfied: tensorboard-plugin-wit>=1.6.0 in /usr/local/lib/python3.6/dist-packages (from tensorboard<3,>=2.3.0->tensorflow->RMDL) (1.7.0)\n",
            "Requirement already satisfied: google-auth<2,>=1.6.3 in /usr/local/lib/python3.6/dist-packages (from tensorboard<3,>=2.3.0->tensorflow->RMDL) (1.17.2)\n",
            "Requirement already satisfied: importlib-metadata; python_version < \"3.8\" in /usr/local/lib/python3.6/dist-packages (from markdown>=2.6.8->tensorboard<3,>=2.3.0->tensorflow->RMDL) (1.7.0)\n",
            "Requirement already satisfied: requests-oauthlib>=0.7.0 in /usr/local/lib/python3.6/dist-packages (from google-auth-oauthlib<0.5,>=0.4.1->tensorboard<3,>=2.3.0->tensorflow->RMDL) (1.3.0)\n",
            "Requirement already satisfied: certifi>=2017.4.17 in /usr/local/lib/python3.6/dist-packages (from requests<3,>=2.21.0->tensorboard<3,>=2.3.0->tensorflow->RMDL) (2020.6.20)\n",
            "Requirement already satisfied: idna<3,>=2.5 in /usr/local/lib/python3.6/dist-packages (from requests<3,>=2.21.0->tensorboard<3,>=2.3.0->tensorflow->RMDL) (2.10)\n",
            "Requirement already satisfied: chardet<4,>=3.0.2 in /usr/local/lib/python3.6/dist-packages (from requests<3,>=2.21.0->tensorboard<3,>=2.3.0->tensorflow->RMDL) (3.0.4)\n",
            "Requirement already satisfied: urllib3!=1.25.0,!=1.25.1,<1.26,>=1.21.1 in /usr/local/lib/python3.6/dist-packages (from requests<3,>=2.21.0->tensorboard<3,>=2.3.0->tensorflow->RMDL) (1.24.3)\n",
            "Requirement already satisfied: rsa<5,>=3.1.4; python_version >= \"3\" in /usr/local/lib/python3.6/dist-packages (from google-auth<2,>=1.6.3->tensorboard<3,>=2.3.0->tensorflow->RMDL) (4.6)\n",
            "Requirement already satisfied: pyasn1-modules>=0.2.1 in /usr/local/lib/python3.6/dist-packages (from google-auth<2,>=1.6.3->tensorboard<3,>=2.3.0->tensorflow->RMDL) (0.2.8)\n",
            "Requirement already satisfied: cachetools<5.0,>=2.0.0 in /usr/local/lib/python3.6/dist-packages (from google-auth<2,>=1.6.3->tensorboard<3,>=2.3.0->tensorflow->RMDL) (4.1.1)\n",
            "Requirement already satisfied: zipp>=0.5 in /usr/local/lib/python3.6/dist-packages (from importlib-metadata; python_version < \"3.8\"->markdown>=2.6.8->tensorboard<3,>=2.3.0->tensorflow->RMDL) (3.1.0)\n",
            "Requirement already satisfied: oauthlib>=3.0.0 in /usr/local/lib/python3.6/dist-packages (from requests-oauthlib>=0.7.0->google-auth-oauthlib<0.5,>=0.4.1->tensorboard<3,>=2.3.0->tensorflow->RMDL) (3.1.0)\n",
            "Requirement already satisfied: pyasn1>=0.1.3 in /usr/local/lib/python3.6/dist-packages (from rsa<5,>=3.1.4; python_version >= \"3\"->google-auth<2,>=1.6.3->tensorboard<3,>=2.3.0->tensorflow->RMDL) (0.4.8)\n",
            "Installing collected packages: RMDL\n",
            "Successfully installed RMDL-1.0.8\n"
          ],
          "name": "stdout"
        }
      ]
    },
    {
      "cell_type": "code",
      "metadata": {
        "id": "HyWVv3z8vO0w",
        "colab_type": "code",
        "colab": {
          "base_uri": "https://localhost:8080/",
          "height": 141
        },
        "outputId": "56ead3ad-4571-4b74-fd47-75b5b9992251"
      },
      "source": [
        "import os\n",
        "import sys\n",
        "import numpy as np\n",
        "from keras.preprocessing.text import Tokenizer\n",
        "from keras.preprocessing.sequence import pad_sequences\n",
        "from keras.utils import to_categorical\n",
        "\n",
        "from gensim.models import KeyedVectors\n",
        "from RMDL import text_feature_extraction as txt\n",
        "import numpy as np\n",
        "from RMDL import RMDL_Text as RMDL\n",
        "import pandas as pd\n",
        "import matplotlib.pyplot as plt\n",
        "import seaborn as sns\n",
        "from sklearn import model_selection, preprocessing"
      ],
      "execution_count": 2,
      "outputs": [
        {
          "output_type": "stream",
          "text": [
            "sys.version_info(major=3, minor=6, micro=9, releaselevel='final', serial=0)\n",
            "sys.version_info(major=3, minor=6, micro=9, releaselevel='final', serial=0)\n",
            "[nltk_data] Downloading package stopwords to /root/nltk_data...\n",
            "[nltk_data]   Unzipping corpora/stopwords.zip.\n"
          ],
          "name": "stdout"
        },
        {
          "output_type": "stream",
          "text": [
            "/usr/local/lib/python3.6/dist-packages/statsmodels/tools/_testing.py:19: FutureWarning: pandas.util.testing is deprecated. Use the functions in the public API at pandas.testing instead.\n",
            "  import pandas.util.testing as tm\n"
          ],
          "name": "stderr"
        }
      ]
    },
    {
      "cell_type": "code",
      "metadata": {
        "id": "ELfkytkHvO4t",
        "colab_type": "code",
        "colab": {
          "base_uri": "https://localhost:8080/",
          "height": 69
        },
        "outputId": "a74664f4-3343-43d2-9656-38142af823fb"
      },
      "source": [
        "reviews_df = pd.read_csv(r\"/content/drive/My Drive/malia/train.csv\")\n",
        "\n",
        "reviews_df.isnull().values.any()\n",
        "reviews_df.sentiment= reviews_df.sentiment.fillna(0.0).astype(int)#this will conver float into int and also manage missing values\n",
        "print(reviews_df.dtypes)\n"
      ],
      "execution_count": 5,
      "outputs": [
        {
          "output_type": "stream",
          "text": [
            "text         object\n",
            "sentiment     int64\n",
            "dtype: object\n"
          ],
          "name": "stdout"
        }
      ]
    },
    {
      "cell_type": "code",
      "metadata": {
        "id": "Vlo8aCOdvO8V",
        "colab_type": "code",
        "colab": {}
      },
      "source": [
        "def clean(text):\n",
        "    '''\n",
        "    '''\n",
        "    text = text.lower()\n",
        "    text = text.replace(\"ain't\", \"am not\")\n",
        "    text = text.replace(\"aren't\", \"are not\")\n",
        "    text = text.replace(\"can't\", \"cannot\")\n",
        "    text = text.replace(\"can't've\", \"cannot have\")\n",
        "    text = text.replace(\"'cause\", \"because\")\n",
        "    text = text.replace(\"could've\", \"could have\")\n",
        "    text = text.replace(\"couldn't\", \"could not\")\n",
        "    text = text.replace(\"couldn't've\", \"could not have\")\n",
        "    text = text.replace(\"should've\", \"should have\")\n",
        "    text = text.replace(\"should't\", \"should not\")\n",
        "    text = text.replace(\"should't've\", \"should not have\")\n",
        "    text = text.replace(\"would've\", \"would have\")\n",
        "    text = text.replace(\"would't\", \"would not\")\n",
        "    text = text.replace(\"would't've\", \"would not have\")\n",
        "    text = text.replace(\"didn't\", \"did not\")\n",
        "    text = text.replace(\"doesn't\", \"does not\")\n",
        "    text = text.replace(\"don't\", \"do not\")\n",
        "    text = text.replace(\"hadn't\", \"had not\")\n",
        "    text = text.replace(\"hadn't've\", \"had not have\")\n",
        "    text = text.replace(\"hasn't\", \"has not\")\n",
        "    text = text.replace(\"haven't\", \"have not\")\n",
        "    text = text.replace(\"haven't\", \"have not\")\n",
        "    text = text.replace(\"haven't\", \"have not\")\n",
        "    text = text.replace(\"haven't\", \"have not\")\n",
        "    text = text.replace(\"he'd\", \"he would\")\n",
        "    text = text.replace(\"haven't\", \"have not\")\n",
        "    text = text.replace(\"he'd've\", \"he would have\")\n",
        "    text = text.replace(\"'s\", \"\")\n",
        "    text = text.replace(\"'t\", \"\")\n",
        "    text = text.replace(\"'ve\", \"\")\n",
        "    text = text.replace(\".\", \" . \")\n",
        "    text = text.replace(\"!\", \" ! \")\n",
        "    text = text.replace(\"?\", \" ? \")\n",
        "    text = text.replace(\";\", \" ; \")\n",
        "    text = text.replace(\":\", \" : \")\n",
        "    text = text.replace(\",\", \" , \")\n",
        "    text = text.replace(\"´\", \"\")\n",
        "    text = text.replace(\"‘\", \"\")\n",
        "    text = text.replace(\"’\", \"\")\n",
        "    text = text.replace(\"“\", \"\")\n",
        "    text = text.replace(\"”\", \"\")\n",
        "    text = text.replace(\"\\'\", \"\")\n",
        "    text = text.replace(\"\\\"\", \"\")\n",
        "    text = text.replace(\"-\", \"\")\n",
        "    text = text.replace(\"–\", \"\")\n",
        "    text = text.replace(\"—\", \"\")\n",
        "    text = text.replace(\"[\", \"\")\n",
        "    text = text.replace(\"]\",\"\")\n",
        "    text = text.replace(\"{\",\"\")\n",
        "    text = text.replace(\"}\", \"\")\n",
        "    text = text.replace(\"/\", \"\")\n",
        "    text = text.replace(\"|\", \"\")\n",
        "    text = text.replace(\"(\", \"\")\n",
        "    text = text.replace(\")\", \"\")\n",
        "    text = text.replace(\"$\", \"\")\n",
        "    text = text.replace(\"+\", \"\")\n",
        "    text = text.replace(\"*\", \"\")\n",
        "    text = text.replace(\"%\", \"\")\n",
        "    text = text.replace(\"#\", \"\")\n",
        "    text = text.replace(\"\\n\", \" \\n \")\n",
        "    text = text.replace(\"\\n\", \"\")\n",
        "    text = text.replace(\"_\", \" _ \")\n",
        "    text = text.replace(\"_\", \"\")\n",
        "    text = ''.join([i for i in text if not i.isdigit()])\n",
        "\n",
        "    return text"
      ],
      "execution_count": 6,
      "outputs": []
    },
    {
      "cell_type": "code",
      "metadata": {
        "id": "DK1KMs0zvO_-",
        "colab_type": "code",
        "colab": {}
      },
      "source": [
        "reviews_text = reviews_df['text']"
      ],
      "execution_count": 7,
      "outputs": []
    },
    {
      "cell_type": "code",
      "metadata": {
        "id": "BYbP2GiRvPDc",
        "colab_type": "code",
        "colab": {}
      },
      "source": [
        "training_reviews = reviews_df['text']\n",
        "labels = reviews_df['sentiment']"
      ],
      "execution_count": 8,
      "outputs": []
    },
    {
      "cell_type": "code",
      "metadata": {
        "id": "jiZlV3UfvPG-",
        "colab_type": "code",
        "colab": {}
      },
      "source": [
        "dict1 ={\n",
        "    'reviews' : training_reviews,\n",
        "    'labels' : labels\n",
        "}\n",
        "sentiment_df = pd.DataFrame.from_dict(dict1)"
      ],
      "execution_count": 9,
      "outputs": []
    },
    {
      "cell_type": "code",
      "metadata": {
        "id": "trmHJjfZvPKX",
        "colab_type": "code",
        "colab": {}
      },
      "source": [
        "dict2 ={\n",
        "    'reviews_text' : reviews_text\n",
        "}\n",
        "reviews_text_df = pd.DataFrame.from_dict(dict2)\n"
      ],
      "execution_count": 10,
      "outputs": []
    },
    {
      "cell_type": "code",
      "metadata": {
        "id": "SlozoaumvPN9",
        "colab_type": "code",
        "colab": {
          "base_uri": "https://localhost:8080/",
          "height": 207
        },
        "outputId": "15c4f62b-0bc0-458a-a884-c2ea82cdb65e"
      },
      "source": [
        "training_reviews[:10]"
      ],
      "execution_count": 11,
      "outputs": [
        {
          "output_type": "execute_result",
          "data": {
            "text/plain": [
              "0    For a movie that gets no respect there sure ar...\n",
              "1    Bizarre horror movie filled with famous faces ...\n",
              "2    A solid, if unremarkable film. Matthau, as Ein...\n",
              "3    It's a strange feeling to sit alone in a theat...\n",
              "4    You probably all already know this by now, but...\n",
              "5    I saw the movie with two grown children. Altho...\n",
              "6    You're using the IMDb.  You've given some heft...\n",
              "7    This was a good film with a powerful message o...\n",
              "8    Made after QUARTET was, TRIO continued the qua...\n",
              "9    For a mature man, to admit that he shed a tear...\n",
              "Name: text, dtype: object"
            ]
          },
          "metadata": {
            "tags": []
          },
          "execution_count": 11
        }
      ]
    },
    {
      "cell_type": "code",
      "metadata": {
        "id": "xms2EJgkvPRK",
        "colab_type": "code",
        "colab": {
          "base_uri": "https://localhost:8080/",
          "height": 69
        },
        "outputId": "0da71d82-b1a8-4b34-8aa1-8968bfff0559"
      },
      "source": [
        "tokenizer = Tokenizer(num_words=200)\n",
        "tokenizer.fit_on_texts(training_reviews)\n",
        "sequences = tokenizer.texts_to_sequences(training_reviews)\n",
        "\n",
        "word_index = tokenizer.word_index\n",
        "print('Found %s unique tokens.' % len(word_index))\n",
        "\n",
        "MAX_SEQUENCE_LENGTH = 1000\n",
        "\n",
        "data = pad_sequences(sequences, maxlen=MAX_SEQUENCE_LENGTH)\n",
        "\n",
        "\n",
        "labels = to_categorical(np.asarray(labels))\n",
        "print('Shape of data tensor:', data.shape)\n",
        "print('Shape of label tensor:', labels.shape)"
      ],
      "execution_count": 12,
      "outputs": [
        {
          "output_type": "stream",
          "text": [
            "Found 88075 unique tokens.\n",
            "Shape of data tensor: (25005, 1000)\n",
            "Shape of label tensor: (25005, 2)\n"
          ],
          "name": "stdout"
        }
      ]
    },
    {
      "cell_type": "code",
      "metadata": {
        "id": "3yCvFufkvPUV",
        "colab_type": "code",
        "colab": {}
      },
      "source": [
        "from sklearn.model_selection import train_test_split\n",
        "x_train, x_val, y_train, y_val = train_test_split(data, labels, test_size=0.2, random_state=42)\n",
        "x_test, x_val, y_test, y_val = train_test_split(data, labels, test_size=0.5, random_state=42)"
      ],
      "execution_count": 13,
      "outputs": []
    },
    {
      "cell_type": "code",
      "metadata": {
        "id": "VtQl5IOVvPXU",
        "colab_type": "code",
        "colab": {
          "base_uri": "https://localhost:8080/",
          "height": 296
        },
        "outputId": "edf23616-c1c7-42e1-d9a5-4c2f48d995a0"
      },
      "source": [
        "!wget https://drive.google.com/open?id=1xzt06g_xeP1DitFXhJprF5VTwzNEUYhq\n"
      ],
      "execution_count": 14,
      "outputs": [
        {
          "output_type": "stream",
          "text": [
            "--2020-08-03 19:20:34--  https://drive.google.com/open?id=1xzt06g_xeP1DitFXhJprF5VTwzNEUYhq\n",
            "Resolving drive.google.com (drive.google.com)... 74.125.143.102, 74.125.143.113, 74.125.143.139, ...\n",
            "Connecting to drive.google.com (drive.google.com)|74.125.143.102|:443... connected.\n",
            "HTTP request sent, awaiting response... 307 Temporary Redirect\n",
            "Location: https://drive.google.com/file/d/1xzt06g_xeP1DitFXhJprF5VTwzNEUYhq/view?usp=drive_open [following]\n",
            "--2020-08-03 19:20:34--  https://drive.google.com/file/d/1xzt06g_xeP1DitFXhJprF5VTwzNEUYhq/view?usp=drive_open\n",
            "Reusing existing connection to drive.google.com:443.\n",
            "HTTP request sent, awaiting response... 200 OK\n",
            "Length: unspecified [text/html]\n",
            "Saving to: ‘open?id=1xzt06g_xeP1DitFXhJprF5VTwzNEUYhq’\n",
            "\n",
            "\r          open?id=1     [<=>                 ]       0  --.-KB/s               \ropen?id=1xzt06g_xeP     [ <=>                ]  69.19K  --.-KB/s    in 0.08s   \n",
            "\n",
            "2020-08-03 19:20:35 (835 KB/s) - ‘open?id=1xzt06g_xeP1DitFXhJprF5VTwzNEUYhq’ saved [70846]\n",
            "\n"
          ],
          "name": "stdout"
        }
      ]
    },
    {
      "cell_type": "code",
      "metadata": {
        "id": "h0gnx9uovPal",
        "colab_type": "code",
        "colab": {
          "base_uri": "https://localhost:8080/",
          "height": 72
        },
        "outputId": "03e162d9-1aba-425a-cfe0-9c69e6c11932"
      },
      "source": [
        "model_ft = KeyedVectors.load_word2vec_format('/content/drive/My Drive/malia/wiki-news-300d-1M.vec', binary=False)"
      ],
      "execution_count": 15,
      "outputs": [
        {
          "output_type": "stream",
          "text": [
            "/usr/local/lib/python3.6/dist-packages/smart_open/smart_open_lib.py:254: UserWarning: This function is deprecated, use smart_open.open instead. See the migration notes for details: https://github.com/RaRe-Technologies/smart_open/blob/master/README.rst#migrating-to-the-new-open-function\n",
            "  'See the migration notes for details: %s' % _MIGRATION_NOTES_URL\n"
          ],
          "name": "stderr"
        }
      ]
    },
    {
      "cell_type": "code",
      "metadata": {
        "id": "u4AQQx9UvPeH",
        "colab_type": "code",
        "colab": {}
      },
      "source": [
        "import keras\n"
      ],
      "execution_count": 16,
      "outputs": []
    },
    {
      "cell_type": "code",
      "metadata": {
        "id": "dGSPSLIkvPg8",
        "colab_type": "code",
        "colab": {
          "base_uri": "https://localhost:8080/",
          "height": 34
        },
        "outputId": "4b016d17-e468-4c55-9c4f-b6e62c71f0fb"
      },
      "source": [
        "vocabSize = len(word_index) + 1\n",
        "# Querying SQLlite database to extract needed words embeddings\n",
        "tokenizer = keras.preprocessing.text.Tokenizer()\n",
        "tokenizer.fit_on_texts(training_reviews)\n",
        "vocabSize = len(tokenizer.word_index) + 1\n",
        "vocabSize"
      ],
      "execution_count": 17,
      "outputs": [
        {
          "output_type": "execute_result",
          "data": {
            "text/plain": [
              "88076"
            ]
          },
          "metadata": {
            "tags": []
          },
          "execution_count": 17
        }
      ]
    },
    {
      "cell_type": "code",
      "metadata": {
        "id": "qe9Z5J8kvPkb",
        "colab_type": "code",
        "colab": {
          "base_uri": "https://localhost:8080/",
          "height": 69
        },
        "outputId": "b82f6a48-2c1f-45be-b024-7fd51b7aba31"
      },
      "source": [
        "EMBEDDING_DIM = 300\n",
        "MAX_NUM_WORDS=500\n",
        "print('Preparing embedding matrix.fast text')\n",
        "\n",
        "# prepare embedding matrix\n",
        "num_words = min(MAX_NUM_WORDS, len(word_index) + 1)\n",
        "print(num_words)\n",
        "embedding_matrix = np.zeros((vocabSize, EMBEDDING_DIM))\n",
        "for word, i in word_index.items():\n",
        "    if i >= MAX_NUM_WORDS:\n",
        "        continue\n",
        "    if word in model_ft.vocab:\n",
        "      embedding_vector = model_ft[word]\n",
        "      embedding_vector = np.array(embedding_vector)\n",
        "      if embedding_vector is not None:\n",
        "          # words not found in embedding index will be all-zeros.\n",
        "          embedding_matrix[i] = embedding_vector\n",
        "print(embedding_matrix.shape)"
      ],
      "execution_count": 18,
      "outputs": [
        {
          "output_type": "stream",
          "text": [
            "Preparing embedding matrix.fast text\n",
            "500\n",
            "(88076, 300)\n"
          ],
          "name": "stdout"
        }
      ]
    },
    {
      "cell_type": "code",
      "metadata": {
        "id": "-u_1zR59vPnc",
        "colab_type": "code",
        "colab": {
          "base_uri": "https://localhost:8080/",
          "height": 138
        },
        "outputId": "bd2ba654-230c-431c-fef5-f1c9ebaf3a03"
      },
      "source": [
        "print(labels)"
      ],
      "execution_count": 19,
      "outputs": [
        {
          "output_type": "stream",
          "text": [
            "[[1. 0.]\n",
            " [1. 0.]\n",
            " [1. 0.]\n",
            " ...\n",
            " [0. 1.]\n",
            " [0. 1.]\n",
            " [0. 1.]]\n"
          ],
          "name": "stdout"
        }
      ]
    },
    {
      "cell_type": "code",
      "metadata": {
        "id": "jmjjAleVvPqk",
        "colab_type": "code",
        "colab": {
          "base_uri": "https://localhost:8080/",
          "height": 121
        },
        "outputId": "c2a18604-d8b7-4788-d56c-77a4f604afa1"
      },
      "source": [
        "import numpy as np\n",
        "import pandas as pd\n",
        "import matplotlib.pyplot as plt\n",
        "from sklearn.preprocessing import LabelEncoder\n",
        "from nltk.corpus import stopwords\n",
        "from wordcloud import WordCloud, STOPWORDS \n",
        "import tensorflow as tf\n",
        "from tensorflow.keras.preprocessing.text import Tokenizer\n",
        "from tensorflow.keras.preprocessing.sequence import pad_sequences\n",
        "from keras.preprocessing.text import Tokenizer\n",
        "from gensim.models.fasttext import FastText\n",
        "import nltk\n",
        "from string import punctuation\n",
        "from nltk.tokenize import word_tokenize\n",
        "from nltk.stem import WordNetLemmatizer\n",
        "from nltk.tokenize import sent_tokenize\n",
        "from nltk import WordPunctTokenizer\n",
        "nltk.download('punkt')\n",
        "nltk.download('wordnet')\n",
        "nltk.download('stopwords')\n",
        "en_stop = set(nltk.corpus.stopwords.words('english'))\n",
        "\n",
        "%matplotlib inline"
      ],
      "execution_count": 20,
      "outputs": [
        {
          "output_type": "stream",
          "text": [
            "[nltk_data] Downloading package punkt to /root/nltk_data...\n",
            "[nltk_data]   Unzipping tokenizers/punkt.zip.\n",
            "[nltk_data] Downloading package wordnet to /root/nltk_data...\n",
            "[nltk_data]   Unzipping corpora/wordnet.zip.\n",
            "[nltk_data] Downloading package stopwords to /root/nltk_data...\n",
            "[nltk_data]   Package stopwords is already up-to-date!\n"
          ],
          "name": "stdout"
        }
      ]
    },
    {
      "cell_type": "code",
      "metadata": {
        "id": "QC4uLIDmvPt8",
        "colab_type": "code",
        "colab": {
          "base_uri": "https://localhost:8080/",
          "height": 328
        },
        "outputId": "c143f2ce-c4e5-4e07-e976-8a881170da69"
      },
      "source": [
        "model = tf.keras.Sequential([\n",
        "    tf.keras.layers.Embedding(vocabSize, EMBEDDING_DIM, input_length=MAX_SEQUENCE_LENGTH, trainable=False),\n",
        "    tf.keras.layers.Conv1D(128, 5, activation='relu'),\n",
        "    tf.keras.layers.Bidirectional(tf.keras.layers.LSTM(32)),\n",
        "    tf.keras.layers.Dense(24, activation='relu'),\n",
        "    tf.keras.layers.Dense(2, activation='sigmoid')\n",
        "])\n",
        "\n",
        "# compile model\n",
        "model.compile(loss='binary_crossentropy',\n",
        "              optimizer='adam',\n",
        "              metrics=['accuracy'])\n",
        "\n",
        "# model summary\n",
        "model.summary()"
      ],
      "execution_count": 21,
      "outputs": [
        {
          "output_type": "stream",
          "text": [
            "Model: \"sequential\"\n",
            "_________________________________________________________________\n",
            "Layer (type)                 Output Shape              Param #   \n",
            "=================================================================\n",
            "embedding (Embedding)        (None, 1000, 300)         26422800  \n",
            "_________________________________________________________________\n",
            "conv1d (Conv1D)              (None, 996, 128)          192128    \n",
            "_________________________________________________________________\n",
            "bidirectional (Bidirectional (None, 64)                41216     \n",
            "_________________________________________________________________\n",
            "dense (Dense)                (None, 24)                1560      \n",
            "_________________________________________________________________\n",
            "dense_1 (Dense)              (None, 2)                 50        \n",
            "=================================================================\n",
            "Total params: 26,657,754\n",
            "Trainable params: 234,954\n",
            "Non-trainable params: 26,422,800\n",
            "_________________________________________________________________\n"
          ],
          "name": "stdout"
        }
      ]
    },
    {
      "cell_type": "code",
      "metadata": {
        "id": "Z-dofDnavPxO",
        "colab_type": "code",
        "colab": {
          "base_uri": "https://localhost:8080/",
          "height": 210
        },
        "outputId": "02348a6a-9909-47b1-8ce5-c2fd8ce833d4"
      },
      "source": [
        "# model fit\n",
        "history=model.fit(x_train, y_train,\n",
        "          batch_size=256,\n",
        "          epochs=5,verbose=1,\n",
        "          validation_data=(x_val, y_val))"
      ],
      "execution_count": 22,
      "outputs": [
        {
          "output_type": "stream",
          "text": [
            "Epoch 1/5\n",
            "79/79 [==============================] - 23s 295ms/step - loss: 0.6532 - accuracy: 0.6056 - val_loss: 0.6121 - val_accuracy: 0.6725\n",
            "Epoch 2/5\n",
            "79/79 [==============================] - 23s 286ms/step - loss: 0.5628 - accuracy: 0.7118 - val_loss: 0.5228 - val_accuracy: 0.7440\n",
            "Epoch 3/5\n",
            "79/79 [==============================] - 23s 286ms/step - loss: 0.5023 - accuracy: 0.7573 - val_loss: 0.4752 - val_accuracy: 0.7748\n",
            "Epoch 4/5\n",
            "79/79 [==============================] - 23s 286ms/step - loss: 0.4693 - accuracy: 0.7803 - val_loss: 0.4513 - val_accuracy: 0.7886\n",
            "Epoch 5/5\n",
            "79/79 [==============================] - 23s 287ms/step - loss: 0.4328 - accuracy: 0.8014 - val_loss: 0.4200 - val_accuracy: 0.8056\n"
          ],
          "name": "stdout"
        }
      ]
    },
    {
      "cell_type": "code",
      "metadata": {
        "id": "2Fof-ynwvP0V",
        "colab_type": "code",
        "colab": {
          "base_uri": "https://localhost:8080/",
          "height": 334
        },
        "outputId": "48d4efa5-5ced-486e-a701-461d7f7394f4"
      },
      "source": [
        "plt.figure(figsize=(10, 5))\n",
        "\n",
        "plt.subplot(1, 2, 1)\n",
        "plt.plot(history.history['accuracy'], label='Training Accuracy')\n",
        "plt.plot(history.history['val_accuracy'], label='Validation Accuracy')\n",
        "plt.xlabel(\"Epochs\")\n",
        "plt.ylabel('Accuracy')\n",
        "plt.legend()\n",
        "\n",
        "plt.subplot(1, 2, 2)\n",
        "plt.plot(history.history['loss'], label='Training Loss')\n",
        "plt.plot(history.history['val_loss'], label='Validation Loss')\n",
        "plt.xlabel(\"Epochs\")\n",
        "plt.ylabel('Loss')\n",
        "plt.legend()\n",
        "\n",
        "plt.show()"
      ],
      "execution_count": 23,
      "outputs": [
        {
          "output_type": "display_data",
          "data": {
            "image/png": "[encoded data removed]",
            "text/plain": [
              "<Figure size 720x360 with 2 Axes>"
            ]
          },
          "metadata": {
            "tags": [],
            "needs_background": "light"
          }
        }
      ]
    },
    {
      "cell_type": "code",
      "metadata": {
        "id": "4rESuJG6vP3f",
        "colab_type": "code",
        "colab": {}
      },
      "source": [
        ""
      ],
      "execution_count": 23,
      "outputs": []
    },
    {
      "cell_type": "code",
      "metadata": {
        "id": "kxZy_WczvP6s",
        "colab_type": "code",
        "colab": {}
      },
      "source": [
        ""
      ],
      "execution_count": null,
      "outputs": []
    },
    {
      "cell_type": "code",
      "metadata": {
        "id": "6YTkDyF8vP9_",
        "colab_type": "code",
        "colab": {}
      },
      "source": [
        ""
      ],
      "execution_count": null,
      "outputs": []
    },
    {
      "cell_type": "code",
      "metadata": {
        "id": "Ce1rK6cAvRVH",
        "colab_type": "code",
        "colab": {}
      },
      "source": [
        ""
      ],
      "execution_count": null,
      "outputs": []
    },
    {
      "cell_type": "code",
      "metadata": {
        "id": "lDANfbRivRYW",
        "colab_type": "code",
        "colab": {}
      },
      "source": [
        ""
      ],
      "execution_count": null,
      "outputs": []
    },
    {
      "cell_type": "code",
      "metadata": {
        "id": "fhDk6U3zvRbN",
        "colab_type": "code",
        "colab": {}
      },
      "source": [
        ""
      ],
      "execution_count": null,
      "outputs": []
    },
    {
      "cell_type": "code",
      "metadata": {
        "id": "E4RBLFU2vRee",
        "colab_type": "code",
        "colab": {}
      },
      "source": [
        ""
      ],
      "execution_count": null,
      "outputs": []
    },
    {
      "cell_type": "code",
      "metadata": {
        "id": "0O-AOndGvRh1",
        "colab_type": "code",
        "colab": {}
      },
      "source": [
        ""
      ],
      "execution_count": null,
      "outputs": []
    }
  ]
}
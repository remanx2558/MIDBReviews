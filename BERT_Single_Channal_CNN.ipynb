{
  "nbformat": 4,
  "nbformat_minor": 0,
  "metadata": {
    "colab": {
      "name": "BERT-Single-Channal-CNN.ipynb",
      "provenance": [],
      "mount_file_id": "1XNbcmmASfEhvEQTTkjG1hDMMYyaClaK0",
      "authorship_tag": "ABX9TyM3hhLp6RBL21NaEv7THYt7",
      "include_colab_link": true
    },
    "kernelspec": {
      "name": "python3",
      "display_name": "Python 3"
    },
    "accelerator": "GPU"
  },
  "cells": [
    {
      "cell_type": "markdown",
      "metadata": {
        "id": "view-in-github",
        "colab_type": "text"
      },
      "source": [
        "<a href=\"https://colab.research.google.com/github/remanx2558/MIDBReviews/blob/master/BERT_Single_Channal_CNN.ipynb\" target=\"_parent\"><img src=\"https://colab.research.google.com/assets/colab-badge.svg\" alt=\"Open In Colab\"/></a>"
      ]
    },
    {
      "cell_type": "code",
      "metadata": {
        "id": "yl1yTHcyfpau",
        "colab_type": "code",
        "colab": {
          "base_uri": "https://localhost:8080/",
          "height": 34
        },
        "outputId": "73a53e1c-3e0a-4957-b4d0-77a66862a0e0"
      },
      "source": [
        "# Basic packages\n",
        "import pandas as pd \n",
        "import numpy as np\n",
        "import re\n",
        "import collections\n",
        "import matplotlib.pyplot as plt\n",
        "\n",
        "# Packages for data preparation\n",
        "from sklearn.model_selection import train_test_split\n",
        "from nltk.corpus import stopwords\n",
        "from keras.preprocessing.text import Tokenizer\n",
        "from keras.utils.np_utils import to_categorical\n",
        "from sklearn.preprocessing import LabelEncoder\n",
        "\n",
        "# Packages for modeling\n",
        "from keras import models\n",
        "from keras import layers\n",
        "from keras import regularizers"
      ],
      "execution_count": 1,
      "outputs": [
        {
          "output_type": "stream",
          "text": [
            "Using TensorFlow backend.\n"
          ],
          "name": "stderr"
        }
      ]
    },
    {
      "cell_type": "code",
      "metadata": {
        "id": "DK06sJJFfw5R",
        "colab_type": "code",
        "colab": {}
      },
      "source": [
        "NB_WORDS = 10000  # Parameter indicating the number of words we'll put in the dictionary\n",
        "VAL_SIZE = 1000  # Size of the validation set\n",
        "NB_START_EPOCHS = 20  # Number of epochs we usually start to train with\n",
        "BATCH_SIZE = 512  # Size of the batches used in the mini-batch gradient descent\n"
      ],
      "execution_count": 0,
      "outputs": []
    },
    {
      "cell_type": "code",
      "metadata": {
        "id": "i4AzJ6Cffw8Q",
        "colab_type": "code",
        "colab": {
          "base_uri": "https://localhost:8080/",
          "height": 206
        },
        "outputId": "30ec2922-11cc-4500-8008-5e37f3b0e39b"
      },
      "source": [
        "df = pd.read_csv(r\"/content/drive/My Drive/malia/train.csv\")\n",
        "df = df.reindex(np.random.permutation(df.index))  \n",
        "df = df[['text', 'sentiment']]\n",
        "\n",
        "df.isnull().values.any()\n",
        "df.sentiment= df.sentiment.fillna(0.0).astype(int)#this will conver float into int and also manage missing values\n",
        "\n",
        "df.shape\n",
        "\n",
        "df.head()"
      ],
      "execution_count": 12,
      "outputs": [
        {
          "output_type": "execute_result",
          "data": {
            "text/html": [
              "<div>\n",
              "<style scoped>\n",
              "    .dataframe tbody tr th:only-of-type {\n",
              "        vertical-align: middle;\n",
              "    }\n",
              "\n",
              "    .dataframe tbody tr th {\n",
              "        vertical-align: top;\n",
              "    }\n",
              "\n",
              "    .dataframe thead th {\n",
              "        text-align: right;\n",
              "    }\n",
              "</style>\n",
              "<table border=\"1\" class=\"dataframe\">\n",
              "  <thead>\n",
              "    <tr style=\"text-align: right;\">\n",
              "      <th></th>\n",
              "      <th>text</th>\n",
              "      <th>sentiment</th>\n",
              "    </tr>\n",
              "  </thead>\n",
              "  <tbody>\n",
              "    <tr>\n",
              "      <th>4792</th>\n",
              "      <td>I thought the movie was fairly well done for a...</td>\n",
              "      <td>0</td>\n",
              "    </tr>\n",
              "    <tr>\n",
              "      <th>1976</th>\n",
              "      <td>With the advent of the IMDb, this overlooked m...</td>\n",
              "      <td>0</td>\n",
              "    </tr>\n",
              "    <tr>\n",
              "      <th>20830</th>\n",
              "      <td>Flame in, flame out. That seems to be Gammera ...</td>\n",
              "      <td>1</td>\n",
              "    </tr>\n",
              "    <tr>\n",
              "      <th>95</th>\n",
              "      <td>I saw the film twice in the space of one week,...</td>\n",
              "      <td>0</td>\n",
              "    </tr>\n",
              "    <tr>\n",
              "      <th>7286</th>\n",
              "      <td>Actually I'm surprised there were so many comm...</td>\n",
              "      <td>0</td>\n",
              "    </tr>\n",
              "  </tbody>\n",
              "</table>\n",
              "</div>"
            ],
            "text/plain": [
              "                                                    text  sentiment\n",
              "4792   I thought the movie was fairly well done for a...          0\n",
              "1976   With the advent of the IMDb, this overlooked m...          0\n",
              "20830  Flame in, flame out. That seems to be Gammera ...          1\n",
              "95     I saw the film twice in the space of one week,...          0\n",
              "7286   Actually I'm surprised there were so many comm...          0"
            ]
          },
          "metadata": {
            "tags": []
          },
          "execution_count": 12
        }
      ]
    },
    {
      "cell_type": "code",
      "metadata": {
        "id": "nSJ5dLZNfxFN",
        "colab_type": "code",
        "colab": {
          "base_uri": "https://localhost:8080/",
          "height": 241
        },
        "outputId": "323e4f66-d238-4eae-864e-9727e21b4469"
      },
      "source": [
        "import nltk\n",
        "nltk.download('stopwords')\n",
        "\n",
        "def remove_stopwords(input_text):\n",
        "        stopwords_list = stopwords.words('english')\n",
        "        # Some words which might indicate a certain sentiment are kept via a whitelist\n",
        "        whitelist = [\"n't\", \"not\", \"no\"]\n",
        "        words = input_text.split() \n",
        "        clean_words = [word for word in words if (word not in stopwords_list or word in whitelist) and len(word) > 1] \n",
        "        return \" \".join(clean_words) \n",
        "    \n",
        "def remove_mentions(input_text):\n",
        "        return re.sub(r'@\\w+', '', input_text)\n",
        "       \n",
        "df.text = df.text.apply(remove_stopwords).apply(remove_mentions)\n",
        "df.head()\n",
        "\n"
      ],
      "execution_count": 13,
      "outputs": [
        {
          "output_type": "stream",
          "text": [
            "[nltk_data] Downloading package stopwords to /root/nltk_data...\n",
            "[nltk_data]   Package stopwords is already up-to-date!\n"
          ],
          "name": "stdout"
        },
        {
          "output_type": "execute_result",
          "data": {
            "text/html": [
              "<div>\n",
              "<style scoped>\n",
              "    .dataframe tbody tr th:only-of-type {\n",
              "        vertical-align: middle;\n",
              "    }\n",
              "\n",
              "    .dataframe tbody tr th {\n",
              "        vertical-align: top;\n",
              "    }\n",
              "\n",
              "    .dataframe thead th {\n",
              "        text-align: right;\n",
              "    }\n",
              "</style>\n",
              "<table border=\"1\" class=\"dataframe\">\n",
              "  <thead>\n",
              "    <tr style=\"text-align: right;\">\n",
              "      <th></th>\n",
              "      <th>text</th>\n",
              "      <th>sentiment</th>\n",
              "    </tr>\n",
              "  </thead>\n",
              "  <tbody>\n",
              "    <tr>\n",
              "      <th>4792</th>\n",
              "      <td>thought movie fairly well done made TV movie, ...</td>\n",
              "      <td>0</td>\n",
              "    </tr>\n",
              "    <tr>\n",
              "      <th>1976</th>\n",
              "      <td>With advent IMDb, overlooked movie find intere...</td>\n",
              "      <td>0</td>\n",
              "    </tr>\n",
              "    <tr>\n",
              "      <th>20830</th>\n",
              "      <td>Flame in, flame out. That seems Gammera nutshe...</td>\n",
              "      <td>1</td>\n",
              "    </tr>\n",
              "    <tr>\n",
              "      <th>95</th>\n",
              "      <td>saw film twice space one week, times cinema Or...</td>\n",
              "      <td>0</td>\n",
              "    </tr>\n",
              "    <tr>\n",
              "      <th>7286</th>\n",
              "      <td>Actually I'm surprised many comments movie. sa...</td>\n",
              "      <td>0</td>\n",
              "    </tr>\n",
              "  </tbody>\n",
              "</table>\n",
              "</div>"
            ],
            "text/plain": [
              "                                                    text  sentiment\n",
              "4792   thought movie fairly well done made TV movie, ...          0\n",
              "1976   With advent IMDb, overlooked movie find intere...          0\n",
              "20830  Flame in, flame out. That seems Gammera nutshe...          1\n",
              "95     saw film twice space one week, times cinema Or...          0\n",
              "7286   Actually I'm surprised many comments movie. sa...          0"
            ]
          },
          "metadata": {
            "tags": []
          },
          "execution_count": 13
        }
      ]
    },
    {
      "cell_type": "code",
      "metadata": {
        "id": "lIo8JoDgfxKT",
        "colab_type": "code",
        "colab": {
          "base_uri": "https://localhost:8080/",
          "height": 52
        },
        "outputId": "794c6a03-6c65-4414-8d8e-a8e91f17b68d"
      },
      "source": [
        "X_train, X_test, y_train, y_test = train_test_split(df.text, df.sentiment, test_size=0.1, random_state=37)\n",
        "print('# Train data samples:', X_train.shape[0])\n",
        "print('# Test data samples:', X_test.shape[0])\n",
        "assert X_train.shape[0] == y_train.shape[0]\n",
        "assert X_test.shape[0] == y_test.shape[0]"
      ],
      "execution_count": 14,
      "outputs": [
        {
          "output_type": "stream",
          "text": [
            "# Train data samples: 22504\n",
            "# Test data samples: 2501\n"
          ],
          "name": "stdout"
        }
      ]
    },
    {
      "cell_type": "code",
      "metadata": {
        "id": "qNcgbG8gfxQx",
        "colab_type": "code",
        "colab": {
          "base_uri": "https://localhost:8080/",
          "height": 69
        },
        "outputId": "629ea121-3f3d-4729-c611-c21f8809d96a"
      },
      "source": [
        "\n",
        "\n",
        "tk = Tokenizer(num_words=NB_WORDS,\n",
        "               filters='!\"#$%&()*+,-./:;<=>?@[\\\\]^_`{|}~\\t\\n',\n",
        "               lower=True,\n",
        "               split=\" \")\n",
        "tk.fit_on_texts(X_train)\n",
        "\n",
        "print('Fitted tokenizer on {} documents'.format(tk.document_count))\n",
        "print('{} words in dictionary'.format(tk.num_words))\n",
        "print('Top 5 most common words are:', collections.Counter(tk.word_counts).most_common(5))\n",
        "\n"
      ],
      "execution_count": 15,
      "outputs": [
        {
          "output_type": "stream",
          "text": [
            "Fitted tokenizer on 22504 documents\n",
            "10000 words in dictionary\n",
            "Top 5 most common words are: [('the', 43992), ('movie', 39150), ('film', 35206), ('not', 27561), ('one', 23762)]\n"
          ],
          "name": "stdout"
        }
      ]
    },
    {
      "cell_type": "code",
      "metadata": {
        "id": "vO-OnIGlfxS3",
        "colab_type": "code",
        "colab": {
          "base_uri": "https://localhost:8080/",
          "height": 54
        },
        "outputId": "602069ce-e5f4-4ad9-ec82-af7150074149"
      },
      "source": [
        "X_train_seq = tk.texts_to_sequences(X_train)\n",
        "X_test_seq = tk.texts_to_sequences(X_test)\n",
        "\n",
        "print('\"{}\" is converted into {}'.format(X_train[0], X_train_seq[0]))\n"
      ],
      "execution_count": 16,
      "outputs": [
        {
          "output_type": "stream",
          "text": [
            "\"For movie gets no respect sure lot memorable quotes listed gem. Imagine movie Joe Piscopo actually funny! Maureen Stapleton scene stealer. The Moroni character absolute scream. Watch Alan \"The Skipper\" Hale jr. police Sgt.\" is converted into [196, 4653, 4893, 5457, 4064, 116, 7, 500, 372, 1446, 5001, 89, 2292, 192, 2206, 992, 114, 8440, 196, 4064, 319, 3477, 4653, 4893, 1394, 927, 443, 38, 6062, 992, 6419, 6, 5, 4, 8969, 4893, 6063, 1394, 7712, 31, 7837, 868, 2196, 7043, 743, 3541, 26, 963, 4064, 6063, 400, 411, 227, 946, 1850, 530, 299, 7838, 1289, 6063, 822, 1035, 2873, 395, 115, 237, 2412, 121, 6063, 116, 1214, 138, 296, 78, 6063, 32, 457, 3018, 4261, 927, 32, 121, 116, 524, 121, 82, 244, 1, 25, 6063, 2, 3661, 1804, 1, 1394, 927, 6063, 629, 4064, 97, 138, 384, 12, 71, 2, 1007, 944, 1341, 37, 249, 254, 17, 360, 269, 138, 8441, 25, 4064, 2, 2926, 6063, 23, 3056, 5980, 823, 4064, 2944, 5980, 25, 2, 51, 19, 818, 239, 239, 1009, 239, 62, 541, 78, 859, 228, 75, 7475, 90, 5215, 74, 499, 25, 4064, 3, 224, 667, 1556, 225, 165, 3, 485, 59, 26, 15, 82, 2687, 9820, 293, 7, 114, 7712, 871, 2469, 2, 1, 34, 2086, 1016, 1189, 1428, 14, 4654, 927, 11, 67, 6527, 6420, 4799, 44, 1251, 2560, 1, 74, 4064, 116, 201, 2, 115, 23, 159, 1275, 798, 5773, 272, 5043, 575, 224, 289, 2, 38, 7713, 443, 23, 1119, 2801, 927, 2, 17, 186, 13, 227, 9378, 6063, 141, 927, 2374, 5981, 121, 116, 6063, 4, 1517, 188, 1280, 61, 1042, 580, 2207, 61, 104, 7, 1391, 6734, 682, 363, 77, 576, 1416, 425, 2241, 6063, 480, 46, 489, 242, 853, 71, 226, 128, 1242, 6063, 256, 7712, 609, 32, 443, 92, 697, 6645, 2781, 5, 812, 1715, 4894, 12, 1101, 38, 4064, 6063, 3, 4, 503, 9, 3158, 17, 149, 372, 519, 195, 289, 32, 116, 271, 285, 367, 7, 4064, 6063, 13, 736, 1341, 64, 473, 1850, 17, 7, 4064, 2719, 20, 9180, 9180, 91, 3, 10, 8970, 116, 29, 561, 216, 47, 6646, 564, 315, 22, 1146, 6929, 1299, 5216, 26, 350, 6063, 6528, 1961, 2208, 5044, 22, 35, 5981, 6063, 2374, 457, 1691, 121, 116, 826, 863, 1, 78, 37, 4360, 18, 27, 1078, 54, 173, 1, 121, 116, 112, 6735, 3197]\n"
          ],
          "name": "stdout"
        }
      ]
    },
    {
      "cell_type": "code",
      "metadata": {
        "id": "m3XqsPrafxgd",
        "colab_type": "code",
        "colab": {
          "base_uri": "https://localhost:8080/",
          "height": 72
        },
        "outputId": "d26605c4-e2a8-4932-8d19-a19eea5f7176"
      },
      "source": [
        "def one_hot_seq(seqs, nb_features = NB_WORDS):\n",
        "    ohs = np.zeros((len(seqs), nb_features))\n",
        "    for i, s in enumerate(seqs):\n",
        "        ohs[i, s] = 1.\n",
        "    return ohs\n",
        "\n",
        "X_train_oh = one_hot_seq(X_train_seq)\n",
        "X_test_oh = one_hot_seq(X_test_seq)\n",
        "\n",
        "print('\"{}\" is converted into {}'.format(X_train_seq[0], X_train_oh[0]))\n",
        "print('For this example we have {} features with a value of 1.'.format(X_train_oh[0].sum()))"
      ],
      "execution_count": 17,
      "outputs": [
        {
          "output_type": "stream",
          "text": [
            "\"[196, 4653, 4893, 5457, 4064, 116, 7, 500, 372, 1446, 5001, 89, 2292, 192, 2206, 992, 114, 8440, 196, 4064, 319, 3477, 4653, 4893, 1394, 927, 443, 38, 6062, 992, 6419, 6, 5, 4, 8969, 4893, 6063, 1394, 7712, 31, 7837, 868, 2196, 7043, 743, 3541, 26, 963, 4064, 6063, 400, 411, 227, 946, 1850, 530, 299, 7838, 1289, 6063, 822, 1035, 2873, 395, 115, 237, 2412, 121, 6063, 116, 1214, 138, 296, 78, 6063, 32, 457, 3018, 4261, 927, 32, 121, 116, 524, 121, 82, 244, 1, 25, 6063, 2, 3661, 1804, 1, 1394, 927, 6063, 629, 4064, 97, 138, 384, 12, 71, 2, 1007, 944, 1341, 37, 249, 254, 17, 360, 269, 138, 8441, 25, 4064, 2, 2926, 6063, 23, 3056, 5980, 823, 4064, 2944, 5980, 25, 2, 51, 19, 818, 239, 239, 1009, 239, 62, 541, 78, 859, 228, 75, 7475, 90, 5215, 74, 499, 25, 4064, 3, 224, 667, 1556, 225, 165, 3, 485, 59, 26, 15, 82, 2687, 9820, 293, 7, 114, 7712, 871, 2469, 2, 1, 34, 2086, 1016, 1189, 1428, 14, 4654, 927, 11, 67, 6527, 6420, 4799, 44, 1251, 2560, 1, 74, 4064, 116, 201, 2, 115, 23, 159, 1275, 798, 5773, 272, 5043, 575, 224, 289, 2, 38, 7713, 443, 23, 1119, 2801, 927, 2, 17, 186, 13, 227, 9378, 6063, 141, 927, 2374, 5981, 121, 116, 6063, 4, 1517, 188, 1280, 61, 1042, 580, 2207, 61, 104, 7, 1391, 6734, 682, 363, 77, 576, 1416, 425, 2241, 6063, 480, 46, 489, 242, 853, 71, 226, 128, 1242, 6063, 256, 7712, 609, 32, 443, 92, 697, 6645, 2781, 5, 812, 1715, 4894, 12, 1101, 38, 4064, 6063, 3, 4, 503, 9, 3158, 17, 149, 372, 519, 195, 289, 32, 116, 271, 285, 367, 7, 4064, 6063, 13, 736, 1341, 64, 473, 1850, 17, 7, 4064, 2719, 20, 9180, 9180, 91, 3, 10, 8970, 116, 29, 561, 216, 47, 6646, 564, 315, 22, 1146, 6929, 1299, 5216, 26, 350, 6063, 6528, 1961, 2208, 5044, 22, 35, 5981, 6063, 2374, 457, 1691, 121, 116, 826, 863, 1, 78, 37, 4360, 18, 27, 1078, 54, 173, 1, 121, 116, 112, 6735, 3197]\" is converted into [0. 1. 1. ... 0. 0. 0.]\n",
            "For this example we have 240.0 features with a value of 1.\n"
          ],
          "name": "stdout"
        }
      ]
    },
    {
      "cell_type": "code",
      "metadata": {
        "id": "SKziqFf6fxjh",
        "colab_type": "code",
        "colab": {
          "base_uri": "https://localhost:8080/",
          "height": 52
        },
        "outputId": "8e9445ae-fbf4-4813-8c14-f845c6e06b4b"
      },
      "source": [
        "\n",
        "\n",
        "le = LabelEncoder()\n",
        "y_train_le = le.fit_transform(y_train)\n",
        "y_test_le = le.transform(y_test)\n",
        "y_train_oh = to_categorical(y_train_le)\n",
        "y_test_oh = to_categorical(y_test_le)\n",
        "\n",
        "print('\"{}\" is converted into {}'.format(y_train[0], y_train_le[0]))\n",
        "print('\"{}\" is converted into {}'.format(y_train_le[0], y_train_oh[0]))\n",
        "\n"
      ],
      "execution_count": 18,
      "outputs": [
        {
          "output_type": "stream",
          "text": [
            "\"0\" is converted into 1\n",
            "\"1\" is converted into [0. 1.]\n"
          ],
          "name": "stdout"
        }
      ]
    },
    {
      "cell_type": "code",
      "metadata": {
        "id": "TaFddM_xfxm8",
        "colab_type": "code",
        "colab": {
          "base_uri": "https://localhost:8080/",
          "height": 34
        },
        "outputId": "fdab5ed4-6f85-435b-8641-f50cd9214ba9"
      },
      "source": [
        "X_train_rest, X_valid, y_train_rest, y_valid = train_test_split(X_train_oh, y_train_oh, test_size=0.1, random_state=37)\n",
        "\n",
        "assert X_valid.shape[0] == y_valid.shape[0]\n",
        "assert X_train_rest.shape[0] == y_train_rest.shape[0]\n",
        "\n",
        "print('Shape of validation set:',X_valid.shape)"
      ],
      "execution_count": 19,
      "outputs": [
        {
          "output_type": "stream",
          "text": [
            "Shape of validation set: (2251, 10000)\n"
          ],
          "name": "stdout"
        }
      ]
    },
    {
      "cell_type": "code",
      "metadata": {
        "id": "eq_jjXJIfxxk",
        "colab_type": "code",
        "colab": {
          "base_uri": "https://localhost:8080/",
          "height": 260
        },
        "outputId": "02b151a6-674f-47db-cdc3-94e497def35b"
      },
      "source": [
        "\n",
        "\n",
        "base_model = models.Sequential()\n",
        "base_model.add(layers.Dense(64, activation='relu', input_shape=(NB_WORDS,)))\n",
        "base_model.add(layers.Dense(64, activation='relu'))\n",
        "base_model.add(layers.Dense(2, activation='softmax'))\n",
        "base_model.summary()\n",
        "\n"
      ],
      "execution_count": 23,
      "outputs": [
        {
          "output_type": "stream",
          "text": [
            "Model: \"sequential_2\"\n",
            "_________________________________________________________________\n",
            "Layer (type)                 Output Shape              Param #   \n",
            "=================================================================\n",
            "dense_4 (Dense)              (None, 64)                640064    \n",
            "_________________________________________________________________\n",
            "dense_5 (Dense)              (None, 64)                4160      \n",
            "_________________________________________________________________\n",
            "dense_6 (Dense)              (None, 2)                 130       \n",
            "=================================================================\n",
            "Total params: 644,354\n",
            "Trainable params: 644,354\n",
            "Non-trainable params: 0\n",
            "_________________________________________________________________\n"
          ],
          "name": "stdout"
        }
      ]
    },
    {
      "cell_type": "code",
      "metadata": {
        "id": "62sU5pqLfx0r",
        "colab_type": "code",
        "colab": {}
      },
      "source": [
        "def deep_model(model):\n",
        "    model.compile(optimizer='rmsprop'\n",
        "                  , loss='categorical_crossentropy'\n",
        "                  , metrics=['accuracy'])\n",
        "    \n",
        "    history = model.fit(X_train_rest\n",
        "                       , y_train_rest\n",
        "                       , epochs=NB_START_EPOCHS\n",
        "                       , batch_size=BATCH_SIZE\n",
        "                       , validation_data=(X_valid, y_valid)\n",
        "                       , verbose=0)\n",
        "    \n",
        "    return history\n"
      ],
      "execution_count": 0,
      "outputs": []
    },
    {
      "cell_type": "code",
      "metadata": {
        "id": "Xkx0E-AOfx6L",
        "colab_type": "code",
        "colab": {}
      },
      "source": [
        "base_history = deep_model(base_model)"
      ],
      "execution_count": 0,
      "outputs": []
    },
    {
      "cell_type": "code",
      "metadata": {
        "id": "Tg8mu6syfx_G",
        "colab_type": "code",
        "colab": {}
      },
      "source": [
        "def eval_metric(history, metric_name):\n",
        "    metric = history.history[metric_name]\n",
        "    val_metric = history.history['val_' + metric_name]\n",
        "\n",
        "    e = range(1, NB_START_EPOCHS + 1)\n",
        "\n",
        "    plt.plot(e, metric, 'bo', label='Train ' + metric_name)\n",
        "    plt.plot(e, val_metric, 'b', label='Validation ' + metric_name)\n",
        "    plt.legend()\n",
        "    plt.show()"
      ],
      "execution_count": 0,
      "outputs": []
    },
    {
      "cell_type": "code",
      "metadata": {
        "id": "DSIV6qN6fyFG",
        "colab_type": "code",
        "colab": {
          "base_uri": "https://localhost:8080/",
          "height": 265
        },
        "outputId": "e42281fe-4c25-4cf2-c21f-cd039254b1da"
      },
      "source": [
        "eval_metric(base_history, 'loss')"
      ],
      "execution_count": 27,
      "outputs": [
        {
          "output_type": "display_data",
          "data": {
            "image/png": "[encoded data removed]",
            "text/plain": [
              "<Figure size 432x288 with 1 Axes>"
            ]
          },
          "metadata": {
            "tags": [],
            "needs_background": "light"
          }
        }
      ]
    },
    {
      "cell_type": "code",
      "metadata": {
        "id": "rPRTxUQWfyMp",
        "colab_type": "code",
        "colab": {
          "base_uri": "https://localhost:8080/",
          "height": 340
        },
        "outputId": "2d6dd90a-7386-45cc-c067-baa25dc7f65f"
      },
      "source": [
        "\n",
        "\n",
        "eval_metric(base_history, 'acc')\n",
        "\n"
      ],
      "execution_count": 29,
      "outputs": [
        {
          "output_type": "error",
          "ename": "KeyError",
          "evalue": "ignored",
          "traceback": [
            "\u001b[0;31m---------------------------------------------------------------------------\u001b[0m",
            "\u001b[0;31mKeyError\u001b[0m                                  Traceback (most recent call last)",
            "\u001b[0;32m<ipython-input-29-3b956b06fa0e>\u001b[0m in \u001b[0;36m<module>\u001b[0;34m()\u001b[0m\n\u001b[1;32m      1\u001b[0m \u001b[0;34m\u001b[0m\u001b[0m\n\u001b[1;32m      2\u001b[0m \u001b[0;34m\u001b[0m\u001b[0m\n\u001b[0;32m----> 3\u001b[0;31m \u001b[0meval_metric\u001b[0m\u001b[0;34m(\u001b[0m\u001b[0mbase_history\u001b[0m\u001b[0;34m,\u001b[0m \u001b[0;34m'acc'\u001b[0m\u001b[0;34m)\u001b[0m\u001b[0;34m\u001b[0m\u001b[0;34m\u001b[0m\u001b[0m\n\u001b[0m\u001b[1;32m      4\u001b[0m \u001b[0;34m\u001b[0m\u001b[0m\n",
            "\u001b[0;32m<ipython-input-26-e2844daf7ad7>\u001b[0m in \u001b[0;36meval_metric\u001b[0;34m(history, metric_name)\u001b[0m\n\u001b[1;32m      1\u001b[0m \u001b[0;32mdef\u001b[0m \u001b[0meval_metric\u001b[0m\u001b[0;34m(\u001b[0m\u001b[0mhistory\u001b[0m\u001b[0;34m,\u001b[0m \u001b[0mmetric_name\u001b[0m\u001b[0;34m)\u001b[0m\u001b[0;34m:\u001b[0m\u001b[0;34m\u001b[0m\u001b[0;34m\u001b[0m\u001b[0m\n\u001b[0;32m----> 2\u001b[0;31m     \u001b[0mmetric\u001b[0m \u001b[0;34m=\u001b[0m \u001b[0mhistory\u001b[0m\u001b[0;34m.\u001b[0m\u001b[0mhistory\u001b[0m\u001b[0;34m[\u001b[0m\u001b[0mmetric_name\u001b[0m\u001b[0;34m]\u001b[0m\u001b[0;34m\u001b[0m\u001b[0;34m\u001b[0m\u001b[0m\n\u001b[0m\u001b[1;32m      3\u001b[0m     \u001b[0mval_metric\u001b[0m \u001b[0;34m=\u001b[0m \u001b[0mhistory\u001b[0m\u001b[0;34m.\u001b[0m\u001b[0mhistory\u001b[0m\u001b[0;34m[\u001b[0m\u001b[0;34m'val_'\u001b[0m \u001b[0;34m+\u001b[0m \u001b[0mmetric_name\u001b[0m\u001b[0;34m]\u001b[0m\u001b[0;34m\u001b[0m\u001b[0;34m\u001b[0m\u001b[0m\n\u001b[1;32m      4\u001b[0m \u001b[0;34m\u001b[0m\u001b[0m\n\u001b[1;32m      5\u001b[0m     \u001b[0me\u001b[0m \u001b[0;34m=\u001b[0m \u001b[0mrange\u001b[0m\u001b[0;34m(\u001b[0m\u001b[0;36m1\u001b[0m\u001b[0;34m,\u001b[0m \u001b[0mNB_START_EPOCHS\u001b[0m \u001b[0;34m+\u001b[0m \u001b[0;36m1\u001b[0m\u001b[0;34m)\u001b[0m\u001b[0;34m\u001b[0m\u001b[0;34m\u001b[0m\u001b[0m\n",
            "\u001b[0;31mKeyError\u001b[0m: 'acc'"
          ]
        }
      ]
    },
    {
      "cell_type": "code",
      "metadata": {
        "id": "y-izM8uUfyID",
        "colab_type": "code",
        "colab": {
          "base_uri": "https://localhost:8080/",
          "height": 225
        },
        "outputId": "1dcdd7c8-2f9e-4a14-a2fb-68d9f70687b5"
      },
      "source": [
        "reduced_model = models.Sequential()\n",
        "reduced_model.add(layers.Dense(32, activation='relu', input_shape=(NB_WORDS,)))\n",
        "reduced_model.add(layers.Dense(2, activation='softmax'))\n",
        "reduced_model.summary()\n"
      ],
      "execution_count": 32,
      "outputs": [
        {
          "output_type": "stream",
          "text": [
            "Model: \"sequential_4\"\n",
            "_________________________________________________________________\n",
            "Layer (type)                 Output Shape              Param #   \n",
            "=================================================================\n",
            "dense_9 (Dense)              (None, 32)                320032    \n",
            "_________________________________________________________________\n",
            "dense_10 (Dense)             (None, 2)                 66        \n",
            "=================================================================\n",
            "Total params: 320,098\n",
            "Trainable params: 320,098\n",
            "Non-trainable params: 0\n",
            "_________________________________________________________________\n"
          ],
          "name": "stdout"
        }
      ]
    },
    {
      "cell_type": "code",
      "metadata": {
        "id": "MVB-KNQBfyC3",
        "colab_type": "code",
        "colab": {}
      },
      "source": [
        "reduced_history = deep_model(reduced_model)"
      ],
      "execution_count": 0,
      "outputs": []
    },
    {
      "cell_type": "code",
      "metadata": {
        "id": "dHuahTgqfx9M",
        "colab_type": "code",
        "colab": {}
      },
      "source": [
        "def compare_loss_with_baseline(h, model_name):\n",
        "    loss_base_model = base_history.history['val_loss']\n",
        "    loss_model = h.history['val_loss']\n",
        "\n",
        "    e = range(1, NB_START_EPOCHS + 1)\n",
        "\n",
        "    plt.plot(e, loss_base_model, 'bo', label='Validation Loss Baseline Model')\n",
        "    plt.plot(e, loss_model, 'b', label='Validation Loss ' + model_name)\n",
        "    plt.legend()\n",
        "    plt.show()"
      ],
      "execution_count": 0,
      "outputs": []
    },
    {
      "cell_type": "code",
      "metadata": {
        "id": "Iz39OKJXfx32",
        "colab_type": "code",
        "colab": {
          "base_uri": "https://localhost:8080/",
          "height": 265
        },
        "outputId": "56fc7172-5f0a-4ec6-9a5d-253a57ef6805"
      },
      "source": [
        "compare_loss_with_baseline(reduced_history, 'Reduced Model')"
      ],
      "execution_count": 35,
      "outputs": [
        {
          "output_type": "display_data",
          "data": {
            "image/png": "[encoded data removed]",
            "text/plain": [
              "<Figure size 432x288 with 1 Axes>"
            ]
          },
          "metadata": {
            "tags": [],
            "needs_background": "light"
          }
        }
      ]
    },
    {
      "cell_type": "code",
      "metadata": {
        "id": "2-P4jSXUfxuj",
        "colab_type": "code",
        "colab": {
          "base_uri": "https://localhost:8080/",
          "height": 260
        },
        "outputId": "7ad8efaa-07a2-4731-cbb8-7d4209310987"
      },
      "source": [
        "reg_model = models.Sequential()\n",
        "reg_model.add(layers.Dense(64, kernel_regularizer=regularizers.l2(0.001), activation='relu', input_shape=(NB_WORDS,)))\n",
        "reg_model.add(layers.Dense(64, kernel_regularizer=regularizers.l2(0.001), activation='relu'))\n",
        "reg_model.add(layers.Dense(2, activation='softmax'))\n",
        "reg_model.summary()"
      ],
      "execution_count": 36,
      "outputs": [
        {
          "output_type": "stream",
          "text": [
            "Model: \"sequential_5\"\n",
            "_________________________________________________________________\n",
            "Layer (type)                 Output Shape              Param #   \n",
            "=================================================================\n",
            "dense_11 (Dense)             (None, 64)                640064    \n",
            "_________________________________________________________________\n",
            "dense_12 (Dense)             (None, 64)                4160      \n",
            "_________________________________________________________________\n",
            "dense_13 (Dense)             (None, 2)                 130       \n",
            "=================================================================\n",
            "Total params: 644,354\n",
            "Trainable params: 644,354\n",
            "Non-trainable params: 0\n",
            "_________________________________________________________________\n"
          ],
          "name": "stdout"
        }
      ]
    },
    {
      "cell_type": "code",
      "metadata": {
        "id": "zxtV1nLCfxr4",
        "colab_type": "code",
        "colab": {}
      },
      "source": [
        "reg_history = deep_model(reg_model)"
      ],
      "execution_count": 0,
      "outputs": []
    },
    {
      "cell_type": "code",
      "metadata": {
        "id": "BJLX1vHefxpb",
        "colab_type": "code",
        "colab": {
          "base_uri": "https://localhost:8080/",
          "height": 265
        },
        "outputId": "7fc48472-540d-41b9-9f39-d6e9daf1052d"
      },
      "source": [
        "compare_loss_with_baseline(reg_history, 'Regularized Model')"
      ],
      "execution_count": 38,
      "outputs": [
        {
          "output_type": "display_data",
          "data": {
            "image/png": "[encoded data removed]",
            "text/plain": [
              "<Figure size 432x288 with 1 Axes>"
            ]
          },
          "metadata": {
            "tags": [],
            "needs_background": "light"
          }
        }
      ]
    },
    {
      "cell_type": "code",
      "metadata": {
        "id": "Uczon7XgfxeF",
        "colab_type": "code",
        "colab": {
          "base_uri": "https://localhost:8080/",
          "height": 330
        },
        "outputId": "8ed4f647-01ad-4b1b-f5d7-d2757c4c29b4"
      },
      "source": [
        "drop_model = models.Sequential()\n",
        "drop_model.add(layers.Dense(64, activation='relu', input_shape=(NB_WORDS,)))\n",
        "drop_model.add(layers.Dropout(0.5))\n",
        "drop_model.add(layers.Dense(64, activation='relu'))\n",
        "drop_model.add(layers.Dropout(0.5))\n",
        "drop_model.add(layers.Dense(2, activation='softmax'))\n",
        "drop_model.summary()\n"
      ],
      "execution_count": 39,
      "outputs": [
        {
          "output_type": "stream",
          "text": [
            "Model: \"sequential_6\"\n",
            "_________________________________________________________________\n",
            "Layer (type)                 Output Shape              Param #   \n",
            "=================================================================\n",
            "dense_14 (Dense)             (None, 64)                640064    \n",
            "_________________________________________________________________\n",
            "dropout_1 (Dropout)          (None, 64)                0         \n",
            "_________________________________________________________________\n",
            "dense_15 (Dense)             (None, 64)                4160      \n",
            "_________________________________________________________________\n",
            "dropout_2 (Dropout)          (None, 64)                0         \n",
            "_________________________________________________________________\n",
            "dense_16 (Dense)             (None, 2)                 130       \n",
            "=================================================================\n",
            "Total params: 644,354\n",
            "Trainable params: 644,354\n",
            "Non-trainable params: 0\n",
            "_________________________________________________________________\n"
          ],
          "name": "stdout"
        }
      ]
    },
    {
      "cell_type": "code",
      "metadata": {
        "id": "MvA5PeMEfxdE",
        "colab_type": "code",
        "colab": {}
      },
      "source": [
        "drop_history = deep_model(drop_model)"
      ],
      "execution_count": 0,
      "outputs": []
    },
    {
      "cell_type": "code",
      "metadata": {
        "id": "-YI9dHS3fxZW",
        "colab_type": "code",
        "colab": {
          "base_uri": "https://localhost:8080/",
          "height": 265
        },
        "outputId": "932396d8-081a-4dc3-d534-eea249af3faa"
      },
      "source": [
        "compare_loss_with_baseline(drop_history, 'Dropout Model')"
      ],
      "execution_count": 41,
      "outputs": [
        {
          "output_type": "display_data",
          "data": {
            "image/png": "[encoded data removed]",
            "text/plain": [
              "<Figure size 432x288 with 1 Axes>"
            ]
          },
          "metadata": {
            "tags": [],
            "needs_background": "light"
          }
        }
      ]
    },
    {
      "cell_type": "code",
      "metadata": {
        "id": "FvJRxggQfxWR",
        "colab_type": "code",
        "colab": {}
      },
      "source": [
        "def test_model(model, epoch_stop):\n",
        "    model.fit(X_train_oh\n",
        "              , y_train_oh\n",
        "              , epochs=epoch_stop\n",
        "              , batch_size=BATCH_SIZE\n",
        "              , verbose=0)\n",
        "    results = model.evaluate(X_test_oh, y_test_oh)\n",
        "    \n",
        "    return results\n"
      ],
      "execution_count": 0,
      "outputs": []
    },
    {
      "cell_type": "code",
      "metadata": {
        "id": "D5JOg3rzfxNd",
        "colab_type": "code",
        "colab": {
          "base_uri": "https://localhost:8080/",
          "height": 69
        },
        "outputId": "4badc50e-ec78-412d-b06f-c601a5cc6faf"
      },
      "source": [
        "base_results = test_model(base_model, 4)\n",
        "print('/n')\n",
        "print('Test accuracy of baseline model: {0:.2f}%'.format(base_results[1]*100))\n"
      ],
      "execution_count": 43,
      "outputs": [
        {
          "output_type": "stream",
          "text": [
            "2501/2501 [==============================] - 0s 87us/step\n",
            "/n\n",
            "Test accuracy of baseline model: 82.93%\n"
          ],
          "name": "stdout"
        }
      ]
    },
    {
      "cell_type": "code",
      "metadata": {
        "id": "LDC_ssZbfxIP",
        "colab_type": "code",
        "colab": {
          "base_uri": "https://localhost:8080/",
          "height": 69
        },
        "outputId": "82866feb-86f5-460a-c1d9-6a63ed10d2a6"
      },
      "source": [
        "reduced_results = test_model(reduced_model, 10)\n",
        "print('/n')\n",
        "print('Test accuracy of reduced model: {0:.2f}%'.format(reduced_results[1]*100))\n"
      ],
      "execution_count": 44,
      "outputs": [
        {
          "output_type": "stream",
          "text": [
            "2501/2501 [==============================] - 0s 79us/step\n",
            "/n\n",
            "Test accuracy of reduced model: 84.29%\n"
          ],
          "name": "stdout"
        }
      ]
    },
    {
      "cell_type": "code",
      "metadata": {
        "id": "E8GLF24VfxCc",
        "colab_type": "code",
        "colab": {
          "base_uri": "https://localhost:8080/",
          "height": 69
        },
        "outputId": "75711ca7-d8df-4372-fb72-cb688bbce729"
      },
      "source": [
        "reg_results = test_model(reg_model, 5)\n",
        "print('/n')\n",
        "print('Test accuracy of regularized model: {0:.2f}%'.format(reg_results[1]*100))\n",
        "\n"
      ],
      "execution_count": 45,
      "outputs": [
        {
          "output_type": "stream",
          "text": [
            "2501/2501 [==============================] - 0s 79us/step\n",
            "/n\n",
            "Test accuracy of regularized model: 86.77%\n"
          ],
          "name": "stdout"
        }
      ]
    },
    {
      "cell_type": "code",
      "metadata": {
        "id": "g3-SQ97pfxBA",
        "colab_type": "code",
        "colab": {
          "base_uri": "https://localhost:8080/",
          "height": 69
        },
        "outputId": "5d1f6cd7-7c82-4ddd-c253-69a9938f2643"
      },
      "source": [
        "drop_results = test_model(drop_model, 6)\n",
        "print('/n')\n",
        "print('Test accuracy of dropout model: {0:.2f}%'.format(drop_results[1]*100))"
      ],
      "execution_count": 46,
      "outputs": [
        {
          "output_type": "stream",
          "text": [
            "2501/2501 [==============================] - 0s 77us/step\n",
            "/n\n",
            "Test accuracy of dropout model: 87.29%\n"
          ],
          "name": "stdout"
        }
      ]
    },
    {
      "cell_type": "code",
      "metadata": {
        "id": "hc4YbuPIqE-l",
        "colab_type": "code",
        "colab": {}
      },
      "source": [
        ""
      ],
      "execution_count": 0,
      "outputs": []
    }
  ]
}
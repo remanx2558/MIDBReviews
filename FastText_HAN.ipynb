{
  "nbformat": 4,
  "nbformat_minor": 0,
  "metadata": {
    "colab": {
      "name": "FastText_HAN.ipynb",
      "provenance": [],
      "mount_file_id": "1Yh8Hanlpnjwu_s19VxdP33u1SehwaBbk",
      "authorship_tag": "ABX9TyOtAx2JZLh4QL+OnPtCAUSB",
      "include_colab_link": true
    },
    "kernelspec": {
      "name": "python3",
      "display_name": "Python 3"
    },
    "accelerator": "GPU"
  },
  "cells": [
    {
      "cell_type": "markdown",
      "metadata": {
        "id": "view-in-github",
        "colab_type": "text"
      },
      "source": [
        "<a href=\"https://colab.research.google.com/github/remanx2558/MIDBReviews/blob/master/FastText_HAN.ipynb\" target=\"_parent\"><img src=\"https://colab.research.google.com/assets/colab-badge.svg\" alt=\"Open In Colab\"/></a>"
      ]
    },
    {
      "cell_type": "code",
      "metadata": {
        "id": "HO3ss8PEWSHO",
        "colab_type": "code",
        "colab": {}
      },
      "source": [
        "import os\n",
        "import sys\n",
        "import numpy as np\n",
        "import pandas as pd\n",
        "from keras.preprocessing.text import Tokenizer\n",
        "from keras.preprocessing.sequence import pad_sequences\n",
        "from keras.utils import to_categorical\n",
        "\n",
        "from gensim.models import KeyedVectors\n"
      ],
      "execution_count": 1,
      "outputs": []
    },
    {
      "cell_type": "code",
      "metadata": {
        "id": "WyEQYv0iWWTs",
        "colab_type": "code",
        "colab": {
          "base_uri": "https://localhost:8080/",
          "height": 72
        },
        "outputId": "c04d4ebd-cf44-40ae-e0fd-846d50f77c9b"
      },
      "source": [
        "reviews_df = pd.read_csv(r\"/content/drive/My Drive/malia/train.csv\")\n",
        "reviews_df.isnull().values.any()\n",
        "reviews_df.sentiment= reviews_df.sentiment.fillna(0.0).astype(int)#this will conver float into int and also manage missing values\n",
        "\n",
        "print(reviews_df.dtypes)"
      ],
      "execution_count": 2,
      "outputs": [
        {
          "output_type": "stream",
          "text": [
            "text         object\n",
            "sentiment     int64\n",
            "dtype: object\n"
          ],
          "name": "stdout"
        }
      ]
    },
    {
      "cell_type": "markdown",
      "metadata": {
        "id": "EdFlYOZ_w7lo",
        "colab_type": "text"
      },
      "source": [
        "data import and preprocess"
      ]
    },
    {
      "cell_type": "code",
      "metadata": {
        "id": "RsXRYQ9YwmN2",
        "colab_type": "code",
        "colab": {
          "base_uri": "https://localhost:8080/",
          "height": 35
        },
        "outputId": "99b9f9d8-4c41-48b5-810b-ef50cda02f22"
      },
      "source": [
        "import pandas as pd\n",
        "import numpy as np\n",
        "\n",
        "\n",
        "movie_reviews = pd.read_csv(r\"/content/drive/My Drive/malia/train.csv\")\n",
        "\n",
        "movie_reviews.isnull().values.any()\n",
        "movie_reviews.sentiment= movie_reviews.sentiment.fillna(0.0).astype(int)#this will conver float into int and also manage missing values\n",
        "\n",
        "movie_reviews.shape"
      ],
      "execution_count": 44,
      "outputs": [
        {
          "output_type": "execute_result",
          "data": {
            "text/plain": [
              "(25005, 2)"
            ]
          },
          "metadata": {
            "tags": []
          },
          "execution_count": 44
        }
      ]
    },
    {
      "cell_type": "code",
      "metadata": {
        "id": "kJgj4Ljkwvqt",
        "colab_type": "code",
        "colab": {}
      },
      "source": [
        "def preprocess_text(sen):\n",
        "    # Removing html tags\n",
        "    sentence = remove_tags(sen)\n",
        "\n",
        "    # Remove punctuations and numbers\n",
        "    sentence = re.sub('[^a-zA-Z]', ' ', sentence)\n",
        "\n",
        "    # Single character removal\n",
        "    sentence = re.sub(r\"\\s+[a-zA-Z]\\s+\", ' ', sentence)\n",
        "\n",
        "    # Removing multiple spaces\n",
        "    sentence = re.sub(r'\\s+', ' ', sentence)\n",
        "\n",
        "    return sentence"
      ],
      "execution_count": 45,
      "outputs": []
    },
    {
      "cell_type": "code",
      "metadata": {
        "id": "NuL5wzo7wvtq",
        "colab_type": "code",
        "colab": {}
      },
      "source": [
        "import re\n",
        "TAG_RE = re.compile(r'<[^>]+>')\n",
        "\n",
        "def remove_tags(text):\n",
        "    return TAG_RE.sub('', text)"
      ],
      "execution_count": 46,
      "outputs": []
    },
    {
      "cell_type": "code",
      "metadata": {
        "id": "PNdj0aU1wv26",
        "colab_type": "code",
        "colab": {}
      },
      "source": [
        "reviews = []\n",
        "sentences = list(movie_reviews['text'])\n",
        "for sen in sentences:\n",
        "    reviews.append(preprocess_text(sen))"
      ],
      "execution_count": 47,
      "outputs": []
    },
    {
      "cell_type": "code",
      "metadata": {
        "id": "uFsZBEOTwv1t",
        "colab_type": "code",
        "colab": {}
      },
      "source": [
        "movie_reviews['text'] = reviews"
      ],
      "execution_count": 48,
      "outputs": []
    },
    {
      "cell_type": "code",
      "metadata": {
        "id": "c6ZQBgHOwv0L",
        "colab_type": "code",
        "colab": {
          "base_uri": "https://localhost:8080/",
          "height": 72
        },
        "outputId": "484b9db4-d2e4-4a13-d0df-9a33baefd486"
      },
      "source": [
        "tokenizer = Tokenizer(num_words=500)\n",
        "tokenizer.fit_on_texts(movie_reviews['text'])\n",
        "sequences = tokenizer.texts_to_sequences(movie_reviews['text'])\n",
        "\n",
        "word_index = tokenizer.word_index\n",
        "print('Found %s unique tokens.' % len(word_index))\n",
        "\n",
        "MAX_SEQUENCE_LENGTH = 1000\n",
        "\n",
        "data = pad_sequences(sequences, maxlen=MAX_SEQUENCE_LENGTH)\n",
        "\n",
        "\n",
        "labels = to_categorical(np.asarray(labels))\n",
        "print('Shape of data tensor:', data.shape)\n",
        "print('Shape of label tensor:', labels.shape)"
      ],
      "execution_count": 49,
      "outputs": [
        {
          "output_type": "stream",
          "text": [
            "Found 73268 unique tokens.\n",
            "Shape of data tensor: (25005, 1000)\n",
            "Shape of label tensor: (25005, 2, 2)\n"
          ],
          "name": "stdout"
        }
      ]
    },
    {
      "cell_type": "code",
      "metadata": {
        "id": "2vrgNn_rwvy7",
        "colab_type": "code",
        "colab": {}
      },
      "source": [
        "from sklearn.model_selection import train_test_split\n",
        "x_train, x_val, y_train, y_val = train_test_split(data, labels, test_size=0.2, random_state=42)\n",
        "x_test, x_val, y_test, y_val = train_test_split(data, labels, test_size=0.5, random_state=42)\n",
        "\n"
      ],
      "execution_count": 50,
      "outputs": []
    },
    {
      "cell_type": "code",
      "metadata": {
        "id": "TYQLkSFuxCrJ",
        "colab_type": "code",
        "colab": {}
      },
      "source": [
        "model_ft = KeyedVectors.load_word2vec_format('wiki-news-300d-1M.vec', binary=False)"
      ],
      "execution_count": null,
      "outputs": []
    },
    {
      "cell_type": "code",
      "metadata": {
        "id": "7TwyjOJixCu8",
        "colab_type": "code",
        "colab": {
          "base_uri": "https://localhost:8080/",
          "height": 53
        },
        "outputId": "9621700d-d278-413a-940b-e5d3186b5f8c"
      },
      "source": [
        "EMBEDDING_DIM = 300\n",
        "MAX_NUM_WORDS=500\n",
        "print('Preparing embedding matrix.fast text')\n",
        "\n",
        "# prepare embedding matrix\n",
        "num_words = min(MAX_NUM_WORDS, len(word_index) + 1)\n",
        "embedding_matrix = np.zeros((num_words, EMBEDDING_DIM))\n",
        "for word, i in word_index.items():\n",
        "    if i >= MAX_NUM_WORDS:\n",
        "        continue\n",
        "    if word in model_ft.vocab:\n",
        "      embedding_vector = model_ft[word]\n",
        "      embedding_vector = np.array(embedding_vector)\n",
        "      if embedding_vector is not None:\n",
        "          # words not found in embedding index will be all-zeros.\n",
        "          embedding_matrix[i] = embedding_vector\n",
        "print(embedding_matrix.shape)"
      ],
      "execution_count": 51,
      "outputs": [
        {
          "output_type": "stream",
          "text": [
            "Preparing embedding matrix.fast text\n",
            "(500, 300)\n"
          ],
          "name": "stdout"
        }
      ]
    },
    {
      "cell_type": "code",
      "metadata": {
        "id": "X-btMUZHxC5z",
        "colab_type": "code",
        "colab": {
          "base_uri": "https://localhost:8080/",
          "height": 35
        },
        "outputId": "109f9cab-352c-4b79-d223-8f026005f980"
      },
      "source": [
        "movie_reviews.shape"
      ],
      "execution_count": 52,
      "outputs": [
        {
          "output_type": "execute_result",
          "data": {
            "text/plain": [
              "(25005, 2)"
            ]
          },
          "metadata": {
            "tags": []
          },
          "execution_count": 52
        }
      ]
    },
    {
      "cell_type": "code",
      "metadata": {
        "id": "QVRScW4oxC2p",
        "colab_type": "code",
        "colab": {}
      },
      "source": [
        ""
      ],
      "execution_count": null,
      "outputs": []
    },
    {
      "cell_type": "code",
      "metadata": {
        "id": "QhhglMKXxC1L",
        "colab_type": "code",
        "colab": {}
      },
      "source": [
        ""
      ],
      "execution_count": null,
      "outputs": []
    },
    {
      "cell_type": "code",
      "metadata": {
        "id": "msOch4cTxCz2",
        "colab_type": "code",
        "colab": {}
      },
      "source": [
        ""
      ],
      "execution_count": null,
      "outputs": []
    },
    {
      "cell_type": "code",
      "metadata": {
        "id": "UEgH50XjxCpu",
        "colab_type": "code",
        "colab": {}
      },
      "source": [
        ""
      ],
      "execution_count": null,
      "outputs": []
    },
    {
      "cell_type": "code",
      "metadata": {
        "id": "FnzXesAZWWWR",
        "colab_type": "code",
        "colab": {}
      },
      "source": [
        "def clean(text):\n",
        "    '''\n",
        "    '''\n",
        "    text = text.lower()\n",
        "    text = text.replace(\"ain't\", \"am not\")\n",
        "    text = text.replace(\"aren't\", \"are not\")\n",
        "    text = text.replace(\"can't\", \"cannot\")\n",
        "    text = text.replace(\"can't've\", \"cannot have\")\n",
        "    text = text.replace(\"'cause\", \"because\")\n",
        "    text = text.replace(\"could've\", \"could have\")\n",
        "    text = text.replace(\"couldn't\", \"could not\")\n",
        "    text = text.replace(\"couldn't've\", \"could not have\")\n",
        "    text = text.replace(\"should've\", \"should have\")\n",
        "    text = text.replace(\"should't\", \"should not\")\n",
        "    text = text.replace(\"should't've\", \"should not have\")\n",
        "    text = text.replace(\"would've\", \"would have\")\n",
        "    text = text.replace(\"would't\", \"would not\")\n",
        "    text = text.replace(\"would't've\", \"would not have\")\n",
        "    text = text.replace(\"didn't\", \"did not\")\n",
        "    text = text.replace(\"doesn't\", \"does not\")\n",
        "    text = text.replace(\"don't\", \"do not\")\n",
        "    text = text.replace(\"hadn't\", \"had not\")\n",
        "    text = text.replace(\"hadn't've\", \"had not have\")\n",
        "    text = text.replace(\"hasn't\", \"has not\")\n",
        "    text = text.replace(\"haven't\", \"have not\")\n",
        "    text = text.replace(\"haven't\", \"have not\")\n",
        "    text = text.replace(\"haven't\", \"have not\")\n",
        "    text = text.replace(\"haven't\", \"have not\")\n",
        "    text = text.replace(\"he'd\", \"he would\")\n",
        "    text = text.replace(\"haven't\", \"have not\")\n",
        "    text = text.replace(\"he'd've\", \"he would have\")\n",
        "    text = text.replace(\"'s\", \"\")\n",
        "    text = text.replace(\"'t\", \"\")\n",
        "    text = text.replace(\"'ve\", \"\")\n",
        "    text = text.replace(\".\", \" . \")\n",
        "    text = text.replace(\"!\", \" ! \")\n",
        "    text = text.replace(\"?\", \" ? \")\n",
        "    text = text.replace(\";\", \" ; \")\n",
        "    text = text.replace(\":\", \" : \")\n",
        "    text = text.replace(\",\", \" , \")\n",
        "    text = text.replace(\"´\", \"\")\n",
        "    text = text.replace(\"‘\", \"\")\n",
        "    text = text.replace(\"’\", \"\")\n",
        "    text = text.replace(\"“\", \"\")\n",
        "    text = text.replace(\"”\", \"\")\n",
        "    text = text.replace(\"\\'\", \"\")\n",
        "    text = text.replace(\"\\\"\", \"\")\n",
        "    text = text.replace(\"-\", \"\")\n",
        "    text = text.replace(\"–\", \"\")\n",
        "    text = text.replace(\"—\", \"\")\n",
        "    text = text.replace(\"[\", \"\")\n",
        "    text = text.replace(\"]\",\"\")\n",
        "    text = text.replace(\"{\",\"\")\n",
        "    text = text.replace(\"}\", \"\")\n",
        "    text = text.replace(\"/\", \"\")\n",
        "    text = text.replace(\"|\", \"\")\n",
        "    text = text.replace(\"(\", \"\")\n",
        "    text = text.replace(\")\", \"\")\n",
        "    text = text.replace(\"$\", \"\")\n",
        "    text = text.replace(\"+\", \"\")\n",
        "    text = text.replace(\"*\", \"\")\n",
        "    text = text.replace(\"%\", \"\")\n",
        "    text = text.replace(\"#\", \"\")\n",
        "    text = text.replace(\"\\n\", \" \\n \")\n",
        "    text = text.replace(\"\\n\", \"\")\n",
        "    text = text.replace(\"_\", \" _ \")\n",
        "    text = text.replace(\"_\", \"\")\n",
        "    text = ''.join([i for i in text if not i.isdigit()])\n",
        "\n",
        "    return text"
      ],
      "execution_count": 80,
      "outputs": []
    },
    {
      "cell_type": "code",
      "metadata": {
        "id": "-xdJzUXeWWbv",
        "colab_type": "code",
        "colab": {}
      },
      "source": [
        "reviews = reviews_df['text'].values\n"
      ],
      "execution_count": 81,
      "outputs": []
    },
    {
      "cell_type": "code",
      "metadata": {
        "id": "rD89AToQWWld",
        "colab_type": "code",
        "colab": {}
      },
      "source": [
        "cleaned_reviews = [clean(r) for r in reviews] \n"
      ],
      "execution_count": 82,
      "outputs": []
    },
    {
      "cell_type": "code",
      "metadata": {
        "id": "oQ3oYyudWWql",
        "colab_type": "code",
        "colab": {}
      },
      "source": [
        "reviews_df['text'] = cleaned_reviews\n"
      ],
      "execution_count": 83,
      "outputs": []
    },
    {
      "cell_type": "code",
      "metadata": {
        "id": "MlGWNvXVWWtE",
        "colab_type": "code",
        "colab": {}
      },
      "source": [
        "# Shuffling data\n",
        "reviews_df = reviews_df.sample(frac=1).reset_index(drop=True)\n",
        "\n",
        "# Extracting all text\n",
        "reviews = reviews_df['text'].values\n",
        "reviews_text = []\n",
        "\n",
        "for p in zip(reviews) : \n",
        "        reviews_text.append(p)"
      ],
      "execution_count": 84,
      "outputs": []
    },
    {
      "cell_type": "code",
      "metadata": {
        "id": "yI38AoRuWW8C",
        "colab_type": "code",
        "colab": {}
      },
      "source": [
        "training_df = reviews_df.loc[:10000]\n",
        "reviews_filtered = training_df['text'].values\n",
        "training_reviews = reviews_df['text']\n",
        "labels = reviews_df['sentiment']\n"
      ],
      "execution_count": 85,
      "outputs": []
    },
    {
      "cell_type": "code",
      "metadata": {
        "id": "N8HRhLihWW7P",
        "colab_type": "code",
        "colab": {}
      },
      "source": [
        "dict1 ={\n",
        "    'reviews' : training_reviews,\n",
        "    'labels' : labels\n",
        "}\n",
        "sentiment_df = pd.DataFrame.from_dict(dict1)"
      ],
      "execution_count": 86,
      "outputs": []
    },
    {
      "cell_type": "code",
      "metadata": {
        "id": "9cMr7hMbWW2_",
        "colab_type": "code",
        "colab": {}
      },
      "source": [
        "dict2 ={\n",
        "    'reviews_text' : reviews_text\n",
        "}\n",
        "reviews_text_df = pd.DataFrame.from_dict(dict2)"
      ],
      "execution_count": 87,
      "outputs": []
    },
    {
      "cell_type": "code",
      "metadata": {
        "id": "xYixk-XFWW2K",
        "colab_type": "code",
        "colab": {}
      },
      "source": [
        "import numpy as np\n",
        "import pandas as pd\n",
        "import pickle\n",
        "from collections import defaultdict\n",
        "import re\n",
        "from bs4 import BeautifulSoup\n",
        "import sys\n",
        "import os\n",
        "os.environ['KERAS_BACKEND']='theano'\n",
        "from keras.preprocessing.text import Tokenizer,text_to_word_sequence\n",
        "from keras.preprocessing.sequence import pad_sequences\n",
        "from keras.utils.np_utils import to_categorical\n",
        "from keras.layers import Embedding\n",
        "from keras.layers import Dense, Input, Flatten\n",
        "from keras.layers import Conv1D, MaxPooling1D, Embedding, Dropout, LSTM, GRU, Bidirectional, TimeDistributed\n",
        "from keras.models import Model\n",
        "from keras.callbacks import ModelCheckpoint\n",
        "import matplotlib.pyplot as plt\n",
        "plt.switch_backend('agg')\n",
        "from keras import backend as K\n",
        "from keras.engine.topology import Layer, InputSpec\n",
        "from keras import initializers\n",
        "%matplotlib inline"
      ],
      "execution_count": 88,
      "outputs": []
    },
    {
      "cell_type": "code",
      "metadata": {
        "id": "Ddb4s8IVWWyY",
        "colab_type": "code",
        "colab": {}
      },
      "source": [
        "def clean_str(string):\n",
        "    string = re.sub(r\"\\\\\", \"\", string)\n",
        "    string = re.sub(r\"\\'\", \"\", string)\n",
        "    string = re.sub(r\"\\\"\", \"\", string)\n",
        "    return string.strip().lower()"
      ],
      "execution_count": 89,
      "outputs": []
    },
    {
      "cell_type": "code",
      "metadata": {
        "id": "61UTcn2KWWxI",
        "colab_type": "code",
        "colab": {}
      },
      "source": [
        "MAX_SENT_LENGTH = 100\n",
        "MAX_SENTS = 15\n",
        "MAX_NB_WORDS = 20000\n",
        "EMBEDDING_DIM = 100\n",
        "VALIDATION_SPLIT = 0.2\n",
        "\n",
        "#EMBEDDING_DIM = 300\n",
        "#MAX_NUM_WORDS=500"
      ],
      "execution_count": 90,
      "outputs": []
    },
    {
      "cell_type": "code",
      "metadata": {
        "id": "h07y3l1yWWkn",
        "colab_type": "code",
        "colab": {
          "base_uri": "https://localhost:8080/",
          "height": 72
        },
        "outputId": "e5d64f47-e67a-433b-8235-985ff2357c4b"
      },
      "source": [
        "sentiment_df = sentiment_df.dropna()#this is movie data set complete\n",
        "sentiment_df = sentiment_df.reset_index(drop=True)\n",
        "print('Shape of dataset ',sentiment_df.shape)\n",
        "print(sentiment_df.columns)\n",
        "print('No. of unique classes',len(set(sentiment_df['labels'])))"
      ],
      "execution_count": 91,
      "outputs": [
        {
          "output_type": "stream",
          "text": [
            "Shape of dataset  (25005, 2)\n",
            "Index(['reviews', 'labels'], dtype='object')\n",
            "No. of unique classes 2\n"
          ],
          "name": "stdout"
        }
      ]
    },
    {
      "cell_type": "code",
      "metadata": {
        "id": "oZJT4dqBWWhH",
        "colab_type": "code",
        "colab": {}
      },
      "source": [
        " import nltk\n",
        " from nltk import tokenize\n",
        "\n",
        " reviews = []\n",
        " labels = []\n",
        " texts = []"
      ],
      "execution_count": 92,
      "outputs": []
    },
    {
      "cell_type": "code",
      "metadata": {
        "id": "cRNCe0JxY-9e",
        "colab_type": "code",
        "colab": {}
      },
      "source": [
        "macronum=sorted(set(sentiment_df['labels']))\n",
        "macro_to_id = dict((note, number) for number, note in enumerate(macronum))"
      ],
      "execution_count": 93,
      "outputs": []
    },
    {
      "cell_type": "code",
      "metadata": {
        "id": "W6M3_SO4Y_AX",
        "colab_type": "code",
        "colab": {}
      },
      "source": [
        "def fun(i):\n",
        "    return macro_to_id[i]\n",
        "\n",
        "sentiment_df['labels']=sentiment_df['labels'].apply(fun)"
      ],
      "execution_count": 94,
      "outputs": []
    },
    {
      "cell_type": "code",
      "metadata": {
        "id": "yfJWK_9jY_Pi",
        "colab_type": "code",
        "colab": {
          "base_uri": "https://localhost:8080/",
          "height": 72
        },
        "outputId": "a1f0464e-1976-4d07-cf71-9d477b3acd5e"
      },
      "source": [
        "import nltk\n",
        "nltk.download('punkt')"
      ],
      "execution_count": 95,
      "outputs": [
        {
          "output_type": "stream",
          "text": [
            "[nltk_data] Downloading package punkt to /root/nltk_data...\n",
            "[nltk_data]   Package punkt is already up-to-date!\n"
          ],
          "name": "stdout"
        },
        {
          "output_type": "execute_result",
          "data": {
            "text/plain": [
              "True"
            ]
          },
          "metadata": {
            "tags": []
          },
          "execution_count": 95
        }
      ]
    },
    {
      "cell_type": "code",
      "metadata": {
        "id": "NkPalPu5Y_Vz",
        "colab_type": "code",
        "colab": {}
      },
      "source": [
        "for i in range(movie_reviews.text.shape[0]):\n",
        "    text = BeautifulSoup(movie_reviews.text[i])\n",
        "    text=clean_str(str(text.get_text().encode()).lower())\n",
        "    texts.append(text)\n",
        "    sentences = tokenize.sent_tokenize(text)\n",
        "    reviews.append(sentences)\n",
        "\n",
        "\n",
        "for i in movie_reviews['sentiment']:\n",
        "    labels.append(i)"
      ],
      "execution_count": 96,
      "outputs": []
    },
    {
      "cell_type": "code",
      "metadata": {
        "id": "R1jBN3Z4Y_Um",
        "colab_type": "code",
        "colab": {}
      },
      "source": [
        "tokenizer = Tokenizer(num_words=MAX_NB_WORDS)\n",
        "tokenizer.fit_on_texts(texts)\n",
        "\n",
        "data = np.zeros((len(texts), MAX_SENTS, MAX_SENT_LENGTH), dtype='int32')\n",
        "\n",
        "for i, sentences in enumerate(reviews):\n",
        "    for j, sent in enumerate(sentences):\n",
        "        if j< MAX_SENTS:\n",
        "            wordTokens = text_to_word_sequence(sent)\n",
        "            k=0\n",
        "            for _, word in enumerate(wordTokens):\n",
        "                if k<MAX_SENT_LENGTH and tokenizer.word_index[word]<MAX_NB_WORDS:\n",
        "                    data[i,j,k] = tokenizer.word_index[word]\n",
        "                    k=k+1"
      ],
      "execution_count": 97,
      "outputs": []
    },
    {
      "cell_type": "code",
      "metadata": {
        "id": "xjWl21iiY_Oi",
        "colab_type": "code",
        "colab": {
          "base_uri": "https://localhost:8080/",
          "height": 35
        },
        "outputId": "72876c44-3011-436d-879d-569d6b6a6df7"
      },
      "source": [
        "word_index = tokenizer.word_index\n",
        "print('No. of %s unique tokens.' % len(word_index))"
      ],
      "execution_count": 98,
      "outputs": [
        {
          "output_type": "stream",
          "text": [
            "No. of 75919 unique tokens.\n"
          ],
          "name": "stdout"
        }
      ]
    },
    {
      "cell_type": "code",
      "metadata": {
        "id": "r7ju2IGpY_K2",
        "colab_type": "code",
        "colab": {
          "base_uri": "https://localhost:8080/",
          "height": 53
        },
        "outputId": "f5657086-3fcd-4c2f-b150-c0db803270bc"
      },
      "source": [
        "labels = to_categorical(np.asarray(labels))\n",
        "print('Shape of data tensor:', data.shape)\n",
        "print('Shape of label tensor:', labels.shape)\n",
        "\n",
        "\n",
        "indices = np.arange(data.shape[0])\n",
        "np.random.shuffle(indices)\n",
        "data = data[indices]\n",
        "#labels = labels[indices]\n",
        "nb_validation_samples = int(VALIDATION_SPLIT * data.shape[0])"
      ],
      "execution_count": 99,
      "outputs": [
        {
          "output_type": "stream",
          "text": [
            "Shape of data tensor: (25005, 15, 100)\n",
            "Shape of label tensor: (25005, 2)\n"
          ],
          "name": "stdout"
        }
      ]
    },
    {
      "cell_type": "code",
      "metadata": {
        "id": "gkeX8InrY_J3",
        "colab_type": "code",
        "colab": {}
      },
      "source": [
        "x_train = data[:-nb_validation_samples]\n",
        "y_train = labels[:-nb_validation_samples]\n",
        "x_val = data[-nb_validation_samples:]\n",
        "y_val = labels[-nb_validation_samples:]"
      ],
      "execution_count": 100,
      "outputs": []
    },
    {
      "cell_type": "code",
      "metadata": {
        "id": "x3P9tyJZY_Gl",
        "colab_type": "code",
        "colab": {
          "base_uri": "https://localhost:8080/",
          "height": 92
        },
        "outputId": "0273b025-1195-413a-ebd1-cae56b6a9a20"
      },
      "source": [
        "import pickle\n",
        "import itertools\n",
        "import gensim\n",
        "from sklearn.model_selection import train_test_split\n",
        "from numpy import zeros\n",
        "from sklearn.metrics import classification_report, confusion_matrix\n",
        "from tensorflow.keras.preprocessing.text import text_to_word_sequence\n",
        "from gensim.models import Word2Vec\n",
        "\n",
        "text_reviews = [str(r) for r in movie_reviews['text'].values]\n",
        "sentences = []\n",
        "\n",
        "for review in text_reviews:\n",
        "    words = text_to_word_sequence(review)\n",
        "    sentences.append(words)\n",
        "\n",
        "embeddings_model = Word2Vec(sentences, min_count=1, sg=1, size=128)\n",
        "words = list(embeddings_model.wv.vocab)\n",
        "print('{} WORDS '.format(len(words)))\n",
        "print('Printing first 100:')\n",
        "print(words[:100])"
      ],
      "execution_count": 101,
      "outputs": [
        {
          "output_type": "stream",
          "text": [
            "73268 WORDS \n",
            "Printing first 100:\n",
            "['for', 'movie', 'that', 'gets', 'no', 'respect', 'there', 'sure', 'are', 'lot', 'of', 'memorable', 'quotes', 'listed', 'this', 'gem', 'imagine', 'where', 'joe', 'piscopo', 'is', 'actually', 'funny', 'maureen', 'stapleton', 'scene', 'stealer', 'the', 'moroni', 'character', 'an', 'absolute', 'scream', 'watch', 'alan', 'skipper', 'hale', 'jr', 'as', 'police', 'sgt', 'bizarre', 'horror', 'filled', 'with', 'famous', 'faces', 'but', 'stolen', 'by', 'cristina', 'raines', 'later', 'tv', 'flamingo', 'road', 'pretty', 'somewhat', 'unstable', 'model', 'gummy', 'smile', 'who', 'slated', 'to', 'pay', 'her', 'attempted', 'suicides', 'guarding', 'gateway', 'hell', 'scenes', 'modeling', 'very', 'well', 'captured', 'mood', 'music', 'perfect', 'deborah', 'raffin', 'charming', 'pal', 'when', 'moves', 'into', 'creepy', 'brooklyn', 'heights', 'brownstone', 'inhabited', 'blind', 'priest', 'on', 'top', 'floor', 'things', 'really', 'start']\n"
          ],
          "name": "stdout"
        }
      ]
    },
    {
      "cell_type": "code",
      "metadata": {
        "id": "MfaGmFQkY_FE",
        "colab_type": "code",
        "colab": {}
      },
      "source": [
        ""
      ],
      "execution_count": null,
      "outputs": []
    },
    {
      "cell_type": "code",
      "metadata": {
        "id": "Rga-HaTMZfmr",
        "colab_type": "code",
        "colab": {}
      },
      "source": [
        "!wget https://drive.google.com/open?id=1xzt06g_xeP1DitFXhJprF5VTwzNEUYhq\n",
        "!unzip wiki-news-300d-1M.vec.zip"
      ],
      "execution_count": null,
      "outputs": []
    },
    {
      "cell_type": "code",
      "metadata": {
        "id": "hjGakJxpZfrX",
        "colab_type": "code",
        "colab": {
          "base_uri": "https://localhost:8080/",
          "height": 73
        },
        "outputId": "f393019c-d0af-4ee5-df80-5f68bfe46a76"
      },
      "source": [
        "model_ft = KeyedVectors.load_word2vec_format('/content/drive/My Drive/malia/wiki-news-300d-1M.vec', binary=False)"
      ],
      "execution_count": 27,
      "outputs": [
        {
          "output_type": "stream",
          "text": [
            "/usr/local/lib/python3.6/dist-packages/smart_open/smart_open_lib.py:254: UserWarning: This function is deprecated, use smart_open.open instead. See the migration notes for details: https://github.com/RaRe-Technologies/smart_open/blob/master/README.rst#migrating-to-the-new-open-function\n",
            "  'See the migration notes for details: %s' % _MIGRATION_NOTES_URL\n"
          ],
          "name": "stderr"
        }
      ]
    },
    {
      "cell_type": "code",
      "metadata": {
        "id": "u7FO7NrjZfyO",
        "colab_type": "code",
        "colab": {
          "base_uri": "https://localhost:8080/",
          "height": 53
        },
        "outputId": "7728567d-2633-49c0-9baa-283867556e70"
      },
      "source": [
        "EMBEDDING_DIM = 300\n",
        "MAX_NUM_WORDS=75920\n",
        "print('Preparing embedding matrix.fast text')\n",
        "\n",
        "# prepare embedding matrix\n",
        "num_words = min(MAX_NUM_WORDS, len(word_index) + 1)\n",
        "embedding_matrix = np.zeros((num_words, EMBEDDING_DIM))\n",
        "for word, i in word_index.items():\n",
        "    if i >= MAX_NUM_WORDS:\n",
        "        continue\n",
        "    if word in model_ft.vocab:\n",
        "      embedding_vector = model_ft[word]\n",
        "      embedding_vector = np.array(embedding_vector)\n",
        "      if embedding_vector is not None:\n",
        "          # words not found in embedding index will be all-zeros.\n",
        "          embedding_matrix[i] = embedding_vector\n",
        "print(embedding_matrix.shape)\n",
        "\n",
        "\n",
        "\n",
        "embedding_layer = Embedding(len(word_index) + 1,\n",
        "                            EMBEDDING_DIM,\n",
        "                            weights=[embedding_matrix],\n",
        "                            input_length=MAX_SENT_LENGTH,\n",
        "                            trainable=True)        "
      ],
      "execution_count": 102,
      "outputs": [
        {
          "output_type": "stream",
          "text": [
            "Preparing embedding matrix.fast text\n",
            "(75920, 300)\n"
          ],
          "name": "stdout"
        }
      ]
    },
    {
      "cell_type": "code",
      "metadata": {
        "id": "o8EOzieaZgC3",
        "colab_type": "code",
        "colab": {
          "base_uri": "https://localhost:8080/",
          "height": 326
        },
        "outputId": "514d41a7-a555-413a-cba3-2c66805f8be4"
      },
      "source": [
        "sentence_input = Input(shape=(MAX_SENT_LENGTH,), dtype='int32')\n",
        "embedded_sequences = embedding_layer(sentence_input)\n",
        "l_lstm = Bidirectional(LSTM(128))(embedded_sequences)\n",
        "sentEncoder = Model(sentence_input, l_lstm)\n",
        "\n",
        "review_input = Input(shape=(MAX_SENTS,MAX_SENT_LENGTH), dtype='int32')\n",
        "review_encoder = TimeDistributed(sentEncoder)(review_input)\n",
        "l_lstm_sent = Bidirectional(LSTM(128))(review_encoder)\n",
        "preds = Dense(len(macronum), activation='softmax')(l_lstm_sent)\n",
        "model = Model(review_input, preds)\n",
        "\n",
        "model.compile(loss='categorical_crossentropy',\n",
        "              optimizer='rmsprop',\n",
        "              metrics=['acc'])\n",
        "\n",
        "print(\"Hierachical LSTM\")\n",
        "model.summary()"
      ],
      "execution_count": 103,
      "outputs": [
        {
          "output_type": "stream",
          "text": [
            "Hierachical LSTM\n",
            "Model: \"functional_15\"\n",
            "_________________________________________________________________\n",
            "Layer (type)                 Output Shape              Param #   \n",
            "=================================================================\n",
            "input_12 (InputLayer)        [(None, 15, 100)]         0         \n",
            "_________________________________________________________________\n",
            "time_distributed_3 (TimeDist (None, 15, 256)           23215296  \n",
            "_________________________________________________________________\n",
            "bidirectional_7 (Bidirection (None, 256)               394240    \n",
            "_________________________________________________________________\n",
            "dense_3 (Dense)              (None, 2)                 514       \n",
            "=================================================================\n",
            "Total params: 23,610,050\n",
            "Trainable params: 23,610,050\n",
            "Non-trainable params: 0\n",
            "_________________________________________________________________\n"
          ],
          "name": "stdout"
        }
      ]
    },
    {
      "cell_type": "code",
      "metadata": {
        "id": "BPxnAOn0Zf9s",
        "colab_type": "code",
        "colab": {
          "base_uri": "https://localhost:8080/",
          "height": 437
        },
        "outputId": "ef9dea64-ed6d-4d2b-b456-4c354f6c6e9f"
      },
      "source": [
        "cp=ModelCheckpoint('model_han_.hdf5',monitor='val_acc',verbose=1,save_best_only=True)\n",
        "history=model.fit(x_train, y_train, validation_data=(x_val, y_val),\n",
        "          epochs=6, batch_size=2,callbacks=[cp])"
      ],
      "execution_count": 108,
      "outputs": [
        {
          "output_type": "stream",
          "text": [
            "Epoch 1/6\n",
            "10002/10002 [==============================] - ETA: 0s - loss: 0.6648 - acc: 0.6251\n",
            "Epoch 00001: val_acc improved from -inf to 0.08778, saving model to model_han_.hdf5\n",
            "10002/10002 [==============================] - 928s 93ms/step - loss: 0.6648 - acc: 0.6251 - val_loss: 0.8998 - val_acc: 0.0878\n",
            "Epoch 2/6\n",
            "10002/10002 [==============================] - ETA: 0s - loss: 0.6500 - acc: 0.6431\n",
            "Epoch 00002: val_acc did not improve from 0.08778\n",
            "10002/10002 [==============================] - 938s 94ms/step - loss: 0.6500 - acc: 0.6431 - val_loss: 1.2526 - val_acc: 0.0416\n",
            "Epoch 3/6\n",
            "10002/10002 [==============================] - ETA: 0s - loss: 0.6040 - acc: 0.6909\n",
            "Epoch 00003: val_acc improved from 0.08778 to 0.39892, saving model to model_han_.hdf5\n",
            "10002/10002 [==============================] - 939s 94ms/step - loss: 0.6040 - acc: 0.6909 - val_loss: 0.8100 - val_acc: 0.3989\n",
            "Epoch 4/6\n",
            "10002/10002 [==============================] - ETA: 0s - loss: 0.5375 - acc: 0.7442\n",
            "Epoch 00004: val_acc did not improve from 0.39892\n",
            "10002/10002 [==============================] - 936s 94ms/step - loss: 0.5375 - acc: 0.7442 - val_loss: 1.2981 - val_acc: 0.1284\n",
            "Epoch 5/6\n",
            "10002/10002 [==============================] - ETA: 0s - loss: 0.4844 - acc: 0.7824\n",
            "Epoch 00005: val_acc improved from 0.39892 to 0.46591, saving model to model_han_.hdf5\n",
            "10002/10002 [==============================] - 935s 93ms/step - loss: 0.4844 - acc: 0.7824 - val_loss: 0.8734 - val_acc: 0.4659\n",
            "Epoch 6/6\n",
            " 8465/10002 [========================>.....] - ETA: 2:20 - loss: 0.4085 - acc: 0.8305Buffered data was truncated after reaching the output size limit."
          ],
          "name": "stdout"
        }
      ]
    },
    {
      "cell_type": "code",
      "metadata": {
        "id": "16MAAN0ZZf89",
        "colab_type": "code",
        "colab": {
          "base_uri": "https://localhost:8080/",
          "height": 302
        },
        "outputId": "7703326d-edf0-49ea-888d-0d6f559666a2"
      },
      "source": [
        "fig1 = plt.figure()\n",
        "plt.plot(history.history['loss'],'r',linewidth=3.0)\n",
        "plt.plot(history.history['val_loss'],'b',linewidth=3.0)\n",
        "plt.legend(['Training loss', 'Validation Loss'],fontsize=18)\n",
        "plt.xlabel('Epochs ',fontsize=16)\n",
        "plt.ylabel('Loss',fontsize=16)\n",
        "plt.title('Loss Curves :HAN',fontsize=16)\n",
        "fig1.savefig('loss_han.png')\n",
        "plt.show()"
      ],
      "execution_count": 105,
      "outputs": [
        {
          "output_type": "display_data",
          "data": {
            "image/png": "[encoded data removed]",
            "text/plain": [
              "<Figure size 432x288 with 1 Axes>"
            ]
          },
          "metadata": {
            "tags": [],
            "needs_background": "light"
          }
        }
      ]
    },
    {
      "cell_type": "code",
      "metadata": {
        "id": "qPnm0kUGZf4j",
        "colab_type": "code",
        "colab": {
          "base_uri": "https://localhost:8080/",
          "height": 302
        },
        "outputId": "621c687f-1dcc-431a-ff1c-1e760ed4b7af"
      },
      "source": [
        "fig2=plt.figure()\n",
        "plt.plot(history.history['acc'],'r',linewidth=3.0)\n",
        "plt.plot(history.history['val_acc'],'b',linewidth=3.0)\n",
        "plt.legend(['Training Accuracy', 'Validation Accuracy'],fontsize=18)\n",
        "plt.xlabel('Epochs ',fontsize=16)\n",
        "plt.ylabel('Accuracy',fontsize=16)\n",
        "plt.title('Accuracy Curves : HAN',fontsize=16)\n",
        "fig2.savefig('accuracy_han.png')\n",
        "plt.show()"
      ],
      "execution_count": 106,
      "outputs": [
        {
          "output_type": "display_data",
          "data": {
            "image/png": "[encoded data removed]",
            "text/plain": [
              "<Figure size 432x288 with 1 Axes>"
            ]
          },
          "metadata": {
            "tags": [],
            "needs_background": "light"
          }
        }
      ]
    },
    {
      "cell_type": "code",
      "metadata": {
        "id": "EsjcxuG2Zf3D",
        "colab_type": "code",
        "colab": {
          "base_uri": "https://localhost:8080/",
          "height": 316
        },
        "outputId": "60617337-6c9c-4030-d993-3d6f41af49a5"
      },
      "source": [
        ""
      ],
      "execution_count": 107,
      "outputs": [
        {
          "output_type": "error",
          "ename": "FileNotFoundError",
          "evalue": "ignored",
          "traceback": [
            "\u001b[0;31m---------------------------------------------------------------------------\u001b[0m",
            "\u001b[0;31mFileNotFoundError\u001b[0m                         Traceback (most recent call last)",
            "\u001b[0;32m<ipython-input-107-3a7323f8a859>\u001b[0m in \u001b[0;36m<module>\u001b[0;34m()\u001b[0m\n\u001b[1;32m      1\u001b[0m \u001b[0;32mfrom\u001b[0m \u001b[0mPIL\u001b[0m \u001b[0;32mimport\u001b[0m \u001b[0mImage\u001b[0m\u001b[0;34m\u001b[0m\u001b[0;34m\u001b[0m\u001b[0m\n\u001b[0;32m----> 2\u001b[0;31m \u001b[0mdisplay\u001b[0m\u001b[0;34m(\u001b[0m\u001b[0mImage\u001b[0m\u001b[0;34m.\u001b[0m\u001b[0mopen\u001b[0m\u001b[0;34m(\u001b[0m\u001b[0;34m'han_model.png'\u001b[0m\u001b[0;34m)\u001b[0m\u001b[0;34m)\u001b[0m\u001b[0;34m\u001b[0m\u001b[0;34m\u001b[0m\u001b[0m\n\u001b[0m",
            "\u001b[0;32m/usr/local/lib/python3.6/dist-packages/PIL/Image.py\u001b[0m in \u001b[0;36mopen\u001b[0;34m(fp, mode)\u001b[0m\n\u001b[1;32m   2807\u001b[0m \u001b[0;34m\u001b[0m\u001b[0m\n\u001b[1;32m   2808\u001b[0m     \u001b[0;32mif\u001b[0m \u001b[0mfilename\u001b[0m\u001b[0;34m:\u001b[0m\u001b[0;34m\u001b[0m\u001b[0;34m\u001b[0m\u001b[0m\n\u001b[0;32m-> 2809\u001b[0;31m         \u001b[0mfp\u001b[0m \u001b[0;34m=\u001b[0m \u001b[0mbuiltins\u001b[0m\u001b[0;34m.\u001b[0m\u001b[0mopen\u001b[0m\u001b[0;34m(\u001b[0m\u001b[0mfilename\u001b[0m\u001b[0;34m,\u001b[0m \u001b[0;34m\"rb\"\u001b[0m\u001b[0;34m)\u001b[0m\u001b[0;34m\u001b[0m\u001b[0;34m\u001b[0m\u001b[0m\n\u001b[0m\u001b[1;32m   2810\u001b[0m         \u001b[0mexclusive_fp\u001b[0m \u001b[0;34m=\u001b[0m \u001b[0;32mTrue\u001b[0m\u001b[0;34m\u001b[0m\u001b[0;34m\u001b[0m\u001b[0m\n\u001b[1;32m   2811\u001b[0m \u001b[0;34m\u001b[0m\u001b[0m\n",
            "\u001b[0;31mFileNotFoundError\u001b[0m: [Errno 2] No such file or directory: 'han_model.png'"
          ]
        }
      ]
    },
    {
      "cell_type": "code",
      "metadata": {
        "id": "Kg3WTsBxZfxK",
        "colab_type": "code",
        "colab": {}
      },
      "source": [
        ""
      ],
      "execution_count": null,
      "outputs": []
    },
    {
      "cell_type": "code",
      "metadata": {
        "id": "2ie6k-DqZfvX",
        "colab_type": "code",
        "colab": {}
      },
      "source": [
        ""
      ],
      "execution_count": null,
      "outputs": []
    },
    {
      "cell_type": "code",
      "metadata": {
        "id": "cFtIOYsrZflb",
        "colab_type": "code",
        "colab": {}
      },
      "source": [
        ""
      ],
      "execution_count": null,
      "outputs": []
    },
    {
      "cell_type": "code",
      "metadata": {
        "id": "m8IhtfbOWWft",
        "colab_type": "code",
        "colab": {}
      },
      "source": [
        ""
      ],
      "execution_count": null,
      "outputs": []
    },
    {
      "cell_type": "code",
      "metadata": {
        "id": "lvsCNWvcWWaQ",
        "colab_type": "code",
        "colab": {}
      },
      "source": [
        ""
      ],
      "execution_count": null,
      "outputs": []
    }
  ]
}